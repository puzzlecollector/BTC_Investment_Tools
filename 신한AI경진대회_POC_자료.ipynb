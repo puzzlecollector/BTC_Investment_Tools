{
 "cells": [
  {
   "cell_type": "markdown",
   "id": "18d5f3d1-be8f-4317-a543-477b3b9469b7",
   "metadata": {},
   "source": [
    "# ** 비트코인 분석 툴1: GPT 기반 비트코인 추세 알림봇 **\n",
    "\n",
    "데모에서는 두 가지 기능만 보여주지만 이것말고도 추후에 더 많은 기능들도 추가 가능합니다. 현재는 GPT로 비트코인 추세 분석 용도로 사용하는 예시를 보여주고 있지만, 이걸 더 발전시켜서 비트코인/암호화폐 관련 혹은 더 나아가서 다른 업무 관련해서도 상담 챗봇으로 발전시킬수도 있을 것 같습니다. \n",
    "\n",
    "플랫폼에서 비트코인 정보/가격 분석 페이지를 만들어서 GPT에서 나온 내용들을 띄워서 보여주는 기능정도로 생각해볼 수 있을 것 같습니다."
   ]
  },
  {
   "cell_type": "markdown",
   "id": "cfd6d72e-1c90-40f6-b158-ff0e17e071c4",
   "metadata": {},
   "source": [
    "## 기능1: 최신 암호화폐 속보 내용 요약 후 비트코인 가격에 어떤 영향을 미칠지 분석해주는 기능 \n",
    "\n",
    "- 토큰포스트라는 암호화폐 웹사이트에서 archive된 코인니스 속보형 뉴스를 긁어옵니다 (코인니스에서 스크래핑 해와도 되지만 selenium을 사용해야합니다). \n",
    "- 가장 최근 속보 5개 이상을 긁어온 후 이 뉴스들을 ChatGPT에게 넘겨주고 요약해달라고 요청한뒤, 비트코인 가격에 영향을 끼칠 수 있는 내용들을 분석해달라고 합니다.  "
   ]
  },
  {
   "cell_type": "code",
   "execution_count": 4,
   "id": "537c47e9-c9fe-456b-9b3e-ba95d3351cd1",
   "metadata": {},
   "outputs": [
    {
     "name": "stderr",
     "output_type": "stream",
     "text": [
      "scraping content from tokenpost:   1%|          | 1/199 [00:10<35:22, 10.72s/it]"
     ]
    },
    {
     "name": "stdout",
     "output_type": "stream",
     "text": [
      "Creating most recent coinness news dataFrame...\n"
     ]
    },
    {
     "name": "stderr",
     "output_type": "stream",
     "text": [
      "\n"
     ]
    }
   ],
   "source": [
    "# example of scraping coinness news dataset \n",
    "import time\n",
    "import ccxt\n",
    "import numpy as np\n",
    "import pandas as pd\n",
    "from tqdm import tqdm\n",
    "from datetime import datetime, timedelta\n",
    "import requests\n",
    "from bs4 import BeautifulSoup, Comment\n",
    "from dateutil import parser5\n",
    "from lxml import etree\n",
    "import openai \n",
    "import os \n",
    "\n",
    "def get_articles(headers, url):\n",
    "    news_req = requests.get(url, headers=headers)\n",
    "    soup = BeautifulSoup(news_req.content, \"lxml\")\n",
    "    title = soup.find(\"span\",{\"class\":\"view_top_title noselect\"}).text.strip()\n",
    "    #content = soup.find(\"div\", {\"class\":\"view_content_item\"}).text.strip()\n",
    "    dom = etree.HTML(str(soup))\n",
    "    content = dom.xpath('//*[@id=\"articleContentArea\"]/div[4]/div[1]/p/text()')[0]\n",
    "    return title, content\n",
    "\n",
    "titles, contents, full_times = [], [], []\n",
    "for i in tqdm(range(1, 200), position=0, leave=True, desc=\"scraping content from tokenpost\"):\n",
    "    if len(titles) >= 5 and len(contents) >= 5: \n",
    "        break \n",
    "    try:\n",
    "        '''\n",
    "        공개 버전에서 소스코드 생략. 나중에 요청하시면 전달 드리겠습니다. \n",
    "        '''\n",
    "    except Exception as e:\n",
    "        print(e)\n",
    "        print(\"Error while scraping!\")\n",
    "    time.sleep(0.2)\n",
    "\n",
    "print(\"Creating most recent coinness news dataFrame...\")\n",
    "df = pd.DataFrame(list(zip(titles, contents, full_times)),\n",
    "               columns =['titles', 'contents', 'datetimes'])\n",
    "df.to_csv(\"most_recent_coinness_news.csv\", index=False) # save dataframe \n"
   ]
  },
  {
   "cell_type": "code",
   "execution_count": 5,
   "id": "4b03338a-a26d-4339-9d6f-2b926301a23d",
   "metadata": {},
   "outputs": [
    {
     "data": {
      "text/html": [
       "<div>\n",
       "<style scoped>\n",
       "    .dataframe tbody tr th:only-of-type {\n",
       "        vertical-align: middle;\n",
       "    }\n",
       "\n",
       "    .dataframe tbody tr th {\n",
       "        vertical-align: top;\n",
       "    }\n",
       "\n",
       "    .dataframe thead th {\n",
       "        text-align: right;\n",
       "    }\n",
       "</style>\n",
       "<table border=\"1\" class=\"dataframe\">\n",
       "  <thead>\n",
       "    <tr style=\"text-align: right;\">\n",
       "      <th></th>\n",
       "      <th>titles</th>\n",
       "      <th>contents</th>\n",
       "      <th>datetimes</th>\n",
       "    </tr>\n",
       "  </thead>\n",
       "  <tbody>\n",
       "    <tr>\n",
       "      <th>0</th>\n",
       "      <td>비트코인 채굴업체 스페어 3D, $300만 사모 펀딩 완료</td>\n",
       "      <td>외신에 따르면 비트코인 채굴업체 스페어 3D(Sphere 3D)는 $300만 사모 ...</td>\n",
       "      <td>2023-04-23 20:07:00</td>\n",
       "    </tr>\n",
       "    <tr>\n",
       "      <th>1</th>\n",
       "      <td>테더 점유율 63%...2년래 최고</td>\n",
       "      <td>블록웍스 리서치 데이터에 따르면 테더 시장 점유율은 63%로, 2년 만에 최고치를 ...</td>\n",
       "      <td>2023-04-23 17:29:00</td>\n",
       "    </tr>\n",
       "    <tr>\n",
       "      <th>2</th>\n",
       "      <td>코인니스 뉴스 제공 시간 안내</td>\n",
       "      <td>코인니스 실시간 암호화폐 투자 정보는 월요일 아침 7시부터 일요일 0시까지 매일 2...</td>\n",
       "      <td>2023-04-23 17:25:00</td>\n",
       "    </tr>\n",
       "    <tr>\n",
       "      <th>3</th>\n",
       "      <td>149,999,900 USDT 이체... 익명 → OKX</td>\n",
       "      <td>웨일알러트에 따르면, 익명 주소에서 OKX 주소로 149,999,900 USDT가 ...</td>\n",
       "      <td>2023-04-23 17:24:00</td>\n",
       "    </tr>\n",
       "    <tr>\n",
       "      <th>4</th>\n",
       "      <td>149,999,900 USDT 이체... 익명 → OKX</td>\n",
       "      <td>웨일알러트에 따르면, 익명 주소에서 OKX 주소로 149,999,900 USDT가 ...</td>\n",
       "      <td>2023-04-23 17:17:00</td>\n",
       "    </tr>\n",
       "    <tr>\n",
       "      <th>5</th>\n",
       "      <td>149,999,900 USDT 이체... 익명 → OKX</td>\n",
       "      <td>웨일알러트에 따르면, 익명 주소에서 OKX 주소로 149,999,900 USDT가 ...</td>\n",
       "      <td>2023-04-23 17:15:00</td>\n",
       "    </tr>\n",
       "    <tr>\n",
       "      <th>6</th>\n",
       "      <td>149,999,900 USDT 이체... 익명 → OKX</td>\n",
       "      <td>웨일알러트에 따르면, 익명 주소에서 OKX 주소로 149,999,900 USDT가 ...</td>\n",
       "      <td>2023-04-23 17:08:00</td>\n",
       "    </tr>\n",
       "    <tr>\n",
       "      <th>7</th>\n",
       "      <td>149,999,900 USDT 이체... 익명 → OKX</td>\n",
       "      <td>웨일알러트에 따르면, 익명 주소에서 OKX 주소로 149,999,900 USDT가 ...</td>\n",
       "      <td>2023-04-23 00:01:00</td>\n",
       "    </tr>\n",
       "    <tr>\n",
       "      <th>8</th>\n",
       "      <td>149,999,900 USDT 이체... 익명 → OKX</td>\n",
       "      <td>웨일알러트에 따르면, 익명 주소에서 OKX 주소로 149,999,900 USDT가 ...</td>\n",
       "      <td>2023-04-22 23:19:00</td>\n",
       "    </tr>\n",
       "    <tr>\n",
       "      <th>9</th>\n",
       "      <td>국내 가상자산 시장 투심 소폭 악화..응답자 80% \"규제 강화 필요\"</td>\n",
       "      <td>코인니스와 크라토스가 공동 진행하고 있는 주간 국내 투자자 시장 동향 정기 설문조사...</td>\n",
       "      <td>2023-04-22 22:20:00</td>\n",
       "    </tr>\n",
       "  </tbody>\n",
       "</table>\n",
       "</div>"
      ],
      "text/plain": [
       "                                    titles  \\\n",
       "0         비트코인 채굴업체 스페어 3D, $300만 사모 펀딩 완료   \n",
       "1                      테더 점유율 63%...2년래 최고   \n",
       "2                         코인니스 뉴스 제공 시간 안내   \n",
       "3          149,999,900 USDT 이체... 익명 → OKX   \n",
       "4          149,999,900 USDT 이체... 익명 → OKX   \n",
       "5          149,999,900 USDT 이체... 익명 → OKX   \n",
       "6          149,999,900 USDT 이체... 익명 → OKX   \n",
       "7          149,999,900 USDT 이체... 익명 → OKX   \n",
       "8          149,999,900 USDT 이체... 익명 → OKX   \n",
       "9  국내 가상자산 시장 투심 소폭 악화..응답자 80% \"규제 강화 필요\"   \n",
       "\n",
       "                                            contents           datetimes  \n",
       "0  외신에 따르면 비트코인 채굴업체 스페어 3D(Sphere 3D)는 $300만 사모 ... 2023-04-23 20:07:00  \n",
       "1  블록웍스 리서치 데이터에 따르면 테더 시장 점유율은 63%로, 2년 만에 최고치를 ... 2023-04-23 17:29:00  \n",
       "2  코인니스 실시간 암호화폐 투자 정보는 월요일 아침 7시부터 일요일 0시까지 매일 2... 2023-04-23 17:25:00  \n",
       "3  웨일알러트에 따르면, 익명 주소에서 OKX 주소로 149,999,900 USDT가 ... 2023-04-23 17:24:00  \n",
       "4  웨일알러트에 따르면, 익명 주소에서 OKX 주소로 149,999,900 USDT가 ... 2023-04-23 17:17:00  \n",
       "5  웨일알러트에 따르면, 익명 주소에서 OKX 주소로 149,999,900 USDT가 ... 2023-04-23 17:15:00  \n",
       "6  웨일알러트에 따르면, 익명 주소에서 OKX 주소로 149,999,900 USDT가 ... 2023-04-23 17:08:00  \n",
       "7  웨일알러트에 따르면, 익명 주소에서 OKX 주소로 149,999,900 USDT가 ... 2023-04-23 00:01:00  \n",
       "8  웨일알러트에 따르면, 익명 주소에서 OKX 주소로 149,999,900 USDT가 ... 2023-04-22 23:19:00  \n",
       "9  코인니스와 크라토스가 공동 진행하고 있는 주간 국내 투자자 시장 동향 정기 설문조사... 2023-04-22 22:20:00  "
      ]
     },
     "execution_count": 5,
     "metadata": {},
     "output_type": "execute_result"
    }
   ],
   "source": [
    "df"
   ]
  },
  {
   "cell_type": "code",
   "execution_count": 14,
   "id": "ccfd042c-f605-4f6e-8aa0-722f76d2bffb",
   "metadata": {},
   "outputs": [
    {
     "name": "stdout",
     "output_type": "stream",
     "text": [
      "다음과 같은 가장 최근 코인니스 뉴스들의 내용들을 요약하고, 비트코인 가격에 영향을 미칠 수 있는 요소들을 분석해줘:\n",
      "\n",
      "\n",
      " 비트코인 채굴업체 스페어 3D, $300만 사모 펀딩 완료\n",
      "외신에 따르면 비트코인 채굴업체 스페어 3D(Sphere 3D)는 $300만 사모 펀딩을 완료했다고 밝혔다. LDA 캐피탈이 투자에 참여했다. 조달한 자금은 채굴자 인센티브 제공을 위해 사용된다.\n",
      "\n",
      "테더 점유율 63%...2년래 최고\n",
      "블록웍스 리서치 데이터에 따르면 테더 시장 점유율은 63%로, 2년 만에 최고치를 기록했다. USDT 시가총액은 목요일 $815억을 기록해 2022년 5월 테라 붕괴 이후 최대치에 달했다.\n",
      "\n",
      "코인니스 뉴스 제공 시간 안내\n",
      "코인니스 실시간 암호화폐 투자 정보는 월요일 아침 7시부터 일요일 0시까지 매일 24시간 제공됩니다. 일요일 0시부터 월요일 아침 7시 사이에는 중대 이슈가 발생할 경우에 한해 투자 정보가 제공됩니다.\n",
      "\n",
      "149,999,900 USDT 이체... 익명 → OKX\n",
      "웨일알러트에 따르면, 익명 주소에서 OKX 주소로 149,999,900 USDT가 이체됐다. 1.5억 달러 규모다.\n",
      "\n",
      "149,999,900 USDT 이체... 익명 → OKX\n",
      "웨일알러트에 따르면, 익명 주소에서 OKX 주소로 149,999,900 USDT가 이체됐다. 1.5억 달러 규모다.\n",
      "\n",
      "149,999,900 USDT 이체... 익명 → OKX\n",
      "웨일알러트에 따르면, 익명 주소에서 OKX 주소로 149,999,900 USDT가 이체됐다. 1.5억 달러 규모다.\n",
      "\n",
      "149,999,900 USDT 이체... 익명 → OKX\n",
      "웨일알러트에 따르면, 익명 주소에서 OKX 주소로 149,999,900 USDT가 이체됐다. 1.5억 달러 규모다.\n",
      "\n",
      "149,999,900 USDT 이체... 익명 → OKX\n",
      "웨일알러트에 따르면, 익명 주소에서 OKX 주소로 149,999,900 USDT가 이체됐다. 1.5억 달러 규모다.\n",
      "\n",
      "149,999,900 USDT 이체... 익명 → OKX\n",
      "웨일알러트에 따르면, 익명 주소에서 OKX 주소로 149,999,900 USDT가 이체됐다. 1.5억 달러 규모다.\n",
      "\n",
      "국내 가상자산 시장 투심 소폭 악화..응답자 80% \"규제 강화 필요\"\n",
      "코인니스와 크라토스가 공동 진행하고 있는 주간 국내 투자자 시장 동향 정기 설문조사에 따르면 응답자의 약 51.3%가 다음주 비트코인이 상승 또는 급등할 것으로 전망했다. 전주 60.8%에 비해 10% 포인트 가까이 하락했다. 하락 또는 급락할 것으로 예측한 응답자 비율은 11.4%(전주 9.2%)로 전주 대비 소폭 상승했다. 시장에 대한 심리를 묻는 질문에는 50.4%(전주 46.2%)가 중립이라고 답했다. 낙관 또는 극단적 낙관이라고 답한 비중은 39.2%(전주 44%)로 전주 대비 투자 심리가 소폭 악화했다. 비트코인, 이더리움, 리플, 도지를 제외한 다음주 매도 예정 암호화폐를 묻는 질문에 대해서는 가장 많은 응답자가 트론을 꼽았다. 밀크, 아하, 솔라나, ETC 등이 뒤를 이었다. 매수 예정 암호화폐는 밀크, 트론, 폴리곤, 솔라나, 클레이튼 순으로 나타났다. 가상자산 관련 사기 사고 및 범죄 사례가 증가하고 있는 가운데 추가적인 가상자산 관련 규제 강화가 필요한가를 묻는 질문에는 79%가 \"필요하다\"라고 답했다.\n"
     ]
    }
   ],
   "source": [
    "openai.api_key = \"<YOUR OPENAI API KEY>\"\n",
    "\n",
    "titles = df[\"titles\"].values \n",
    "contents = df[\"contents\"].values \n",
    "\n",
    "news_data = \"\" \n",
    "for i in range(len(titles)): \n",
    "    news_data += str(titles[i]) + \"\\n\" + str(contents[i])  \n",
    "    if i < len(titles)-1: \n",
    "        news_data += \"\\n\\n\" \n",
    "\n",
    "query = f\"다음과 같은 가장 최근 코인니스 뉴스들의 내용들을 요약하고, 비트코인 가격에 영향을 미칠 수 있는 요소들을 분석해줘:\\n\\n\\n {news_data}\"\n",
    "\n",
    "print(query)"
   ]
  },
  {
   "cell_type": "code",
   "execution_count": 15,
   "id": "7b1806df-ae1a-4117-a31f-216682c7cc9a",
   "metadata": {},
   "outputs": [
    {
     "name": "stdout",
     "output_type": "stream",
     "text": [
      "ChatGPT가 가장 최근 코인니스 속보 뉴스 5개 이상을 보고 비트코인 가격에 영향을 끼칠 수 있는 요소를 분석한 결과입니다:\n",
      "- 비트코인 채굴업체 스페어 3D가 $300만 사모 펀딩을 완료했다.\n",
      "- 테더의 시장 점유율이 63%로 2년 만에 최고치를 기록했다.\n",
      "- 익명 주소에서 OKX 주소로 149,999,900 USDT가 이체됐다.\n",
      "- 국내 가상자산 시장 투심이 소폭 악화되었고 응답자 80%는 규제 강화가 필요하다고 답했다.\n",
      "\n",
      "비트코인 가격에 영향을 미칠 요소로는 국내 가상자산 시장 투심의 악화와 규제 강화 요구가 있을 수 있다. 또한, 테더의 시장 점유율이 높아진 것도 가격에 일정한 영향을 미칠 수 있다. 익명 주소에서 큰 규모의 USDT가 이체된 것은 시장의 변동성을 예측할 수 없는 요소이며, 이와 같은 큰 이체 거래는 일시적으로 가격에 영향을 미칠 수 있다.\n"
     ]
    }
   ],
   "source": [
    "response = openai.ChatCompletion.create(\n",
    "    model = \"gpt-3.5-turbo\",\n",
    "    messages = [\n",
    "        {\"role\": \"user\", \"content\": query}\n",
    "    ]\n",
    ") \n",
    "\n",
    "\n",
    "chatgpt_response = response[\"choices\"][0][\"message\"][\"content\"] \n",
    "\n",
    "print(\"ChatGPT가 가장 최근 코인니스 속보 뉴스 5개 이상을 보고 비트코인 가격에 영향을 끼칠 수 있는 요소를 분석한 결과입니다:\\n\\n\\n\")\n",
    "print(chatgpt_response) "
   ]
  },
  {
   "cell_type": "markdown",
   "id": "fd55feff-7b03-4438-a25e-fbf7e9b3f4dc",
   "metadata": {},
   "source": [
    "# Analysis \n",
    "\n",
    "요약 성능이 나쁘지 않은걸로 보이고, prompt tuning을 잘 사용한다면 더 좋은 응답을 받아낼수도 있을 것 같습니다. 더 많은 뉴스를 활용하고 GPT-4 api가 공개된다면 더 좋은 품질의 response를 기대할 수 있을 것 같습니다.  "
   ]
  },
  {
   "cell_type": "markdown",
   "id": "4247191a-7296-4eeb-8594-bdc880eea9f4",
   "metadata": {},
   "source": [
    "## 기능 2: 가장 최근 비트코인 가격 정보 기반 GPT를 활용한 기술적 분석 툴 \n",
    "\n",
    "- 암호화폐 거래소 (이 예시에서는 bybit)에서 비트코인 가격 정보를 불러옵니다. 업비트와 같은 국내 거래소에서 받아와서 BTC/KRW를 분석해도 상관은 없습니다. \n",
    "- 가격 정보와, 가격 정보를 이용해서 계산한 기술적 지표들의 값을 ChatGPT에게 넘겨주고 분석해달라고 요청합니다. "
   ]
  },
  {
   "cell_type": "code",
   "execution_count": 15,
   "id": "0aec8f6e-e2ec-46b3-b1a5-0c61d315975b",
   "metadata": {},
   "outputs": [],
   "source": [
    "import ccxt \n",
    "import time \n",
    "import numpy as np \n",
    "import pandas as pd \n",
    "import pandas_ta as ta \n",
    "import openai \n",
    "import os"
   ]
  },
  {
   "cell_type": "code",
   "execution_count": 16,
   "id": "f44773ba-892b-48c1-8468-7b35457df78c",
   "metadata": {},
   "outputs": [],
   "source": [
    "def get_df(bybit): \n",
    "    df = pd.DataFrame(bybit.fetch_ohlcv(\"BTCUSDT\", timeframe=\"4h\", limit=100))\n",
    "    df = df.rename(columns={0:\"timestamp\", 1:\"open\", 2:\"high\", 3:\"low\", 4:\"close\", 5:\"volume\"}) \n",
    "    return df \n",
    "\n",
    "def create_timestamps(df, bybit): \n",
    "    dates = df[\"timestamp\"].values \n",
    "    timestamp = [] \n",
    "    for i in range(len(dates)): \n",
    "        date_string = bybit.iso8601(int(dates[i])) \n",
    "        date_string = date_string[:10] + \" \" + date_string[11:-5] \n",
    "        timestamp.append(date_string) \n",
    "    df[\"datetime\"] = timestamp\n",
    "    df = df.drop(columns={\"timestamp\"}) \n",
    "    df.set_index(pd.DatetimeIndex(df[\"datetime\"]), inplace=True) \n",
    "    df = df.drop(columns={\"datetime\"}) \n",
    "    return df "
   ]
  },
  {
   "cell_type": "code",
   "execution_count": 17,
   "id": "f2bb2e4d-c27c-40ee-952e-17491aa88160",
   "metadata": {},
   "outputs": [
    {
     "data": {
      "text/html": [
       "<div>\n",
       "<style scoped>\n",
       "    .dataframe tbody tr th:only-of-type {\n",
       "        vertical-align: middle;\n",
       "    }\n",
       "\n",
       "    .dataframe tbody tr th {\n",
       "        vertical-align: top;\n",
       "    }\n",
       "\n",
       "    .dataframe thead th {\n",
       "        text-align: right;\n",
       "    }\n",
       "</style>\n",
       "<table border=\"1\" class=\"dataframe\">\n",
       "  <thead>\n",
       "    <tr style=\"text-align: right;\">\n",
       "      <th></th>\n",
       "      <th>open</th>\n",
       "      <th>high</th>\n",
       "      <th>low</th>\n",
       "      <th>close</th>\n",
       "      <th>volume</th>\n",
       "    </tr>\n",
       "    <tr>\n",
       "      <th>datetime</th>\n",
       "      <th></th>\n",
       "      <th></th>\n",
       "      <th></th>\n",
       "      <th></th>\n",
       "      <th></th>\n",
       "    </tr>\n",
       "  </thead>\n",
       "  <tbody>\n",
       "    <tr>\n",
       "      <th>2023-04-08 12:00:00</th>\n",
       "      <td>28005.1</td>\n",
       "      <td>28036.4</td>\n",
       "      <td>27931.0</td>\n",
       "      <td>28007.1</td>\n",
       "      <td>6840.651</td>\n",
       "    </tr>\n",
       "    <tr>\n",
       "      <th>2023-04-08 16:00:00</th>\n",
       "      <td>28007.1</td>\n",
       "      <td>28008.2</td>\n",
       "      <td>27850.8</td>\n",
       "      <td>27904.0</td>\n",
       "      <td>8970.898</td>\n",
       "    </tr>\n",
       "    <tr>\n",
       "      <th>2023-04-08 20:00:00</th>\n",
       "      <td>27904.0</td>\n",
       "      <td>27978.5</td>\n",
       "      <td>27870.0</td>\n",
       "      <td>27929.7</td>\n",
       "      <td>5601.450</td>\n",
       "    </tr>\n",
       "    <tr>\n",
       "      <th>2023-04-09 00:00:00</th>\n",
       "      <td>27929.7</td>\n",
       "      <td>28074.7</td>\n",
       "      <td>27921.0</td>\n",
       "      <td>28009.8</td>\n",
       "      <td>7973.988</td>\n",
       "    </tr>\n",
       "    <tr>\n",
       "      <th>2023-04-09 04:00:00</th>\n",
       "      <td>28009.8</td>\n",
       "      <td>28059.0</td>\n",
       "      <td>27822.0</td>\n",
       "      <td>27896.1</td>\n",
       "      <td>12093.643</td>\n",
       "    </tr>\n",
       "    <tr>\n",
       "      <th>...</th>\n",
       "      <td>...</td>\n",
       "      <td>...</td>\n",
       "      <td>...</td>\n",
       "      <td>...</td>\n",
       "      <td>...</td>\n",
       "    </tr>\n",
       "    <tr>\n",
       "      <th>2023-04-24 08:00:00</th>\n",
       "      <td>27445.9</td>\n",
       "      <td>27540.0</td>\n",
       "      <td>27136.0</td>\n",
       "      <td>27536.1</td>\n",
       "      <td>33313.203</td>\n",
       "    </tr>\n",
       "    <tr>\n",
       "      <th>2023-04-24 12:00:00</th>\n",
       "      <td>27536.1</td>\n",
       "      <td>27700.0</td>\n",
       "      <td>27203.7</td>\n",
       "      <td>27248.2</td>\n",
       "      <td>38803.028</td>\n",
       "    </tr>\n",
       "    <tr>\n",
       "      <th>2023-04-24 16:00:00</th>\n",
       "      <td>27248.2</td>\n",
       "      <td>27569.9</td>\n",
       "      <td>26933.0</td>\n",
       "      <td>27370.3</td>\n",
       "      <td>45864.424</td>\n",
       "    </tr>\n",
       "    <tr>\n",
       "      <th>2023-04-24 20:00:00</th>\n",
       "      <td>27370.3</td>\n",
       "      <td>27550.0</td>\n",
       "      <td>27288.3</td>\n",
       "      <td>27493.1</td>\n",
       "      <td>11323.364</td>\n",
       "    </tr>\n",
       "    <tr>\n",
       "      <th>2023-04-25 00:00:00</th>\n",
       "      <td>27493.1</td>\n",
       "      <td>27584.4</td>\n",
       "      <td>27311.0</td>\n",
       "      <td>27350.4</td>\n",
       "      <td>8920.125</td>\n",
       "    </tr>\n",
       "  </tbody>\n",
       "</table>\n",
       "<p>100 rows × 5 columns</p>\n",
       "</div>"
      ],
      "text/plain": [
       "                        open     high      low    close     volume\n",
       "datetime                                                          \n",
       "2023-04-08 12:00:00  28005.1  28036.4  27931.0  28007.1   6840.651\n",
       "2023-04-08 16:00:00  28007.1  28008.2  27850.8  27904.0   8970.898\n",
       "2023-04-08 20:00:00  27904.0  27978.5  27870.0  27929.7   5601.450\n",
       "2023-04-09 00:00:00  27929.7  28074.7  27921.0  28009.8   7973.988\n",
       "2023-04-09 04:00:00  28009.8  28059.0  27822.0  27896.1  12093.643\n",
       "...                      ...      ...      ...      ...        ...\n",
       "2023-04-24 08:00:00  27445.9  27540.0  27136.0  27536.1  33313.203\n",
       "2023-04-24 12:00:00  27536.1  27700.0  27203.7  27248.2  38803.028\n",
       "2023-04-24 16:00:00  27248.2  27569.9  26933.0  27370.3  45864.424\n",
       "2023-04-24 20:00:00  27370.3  27550.0  27288.3  27493.1  11323.364\n",
       "2023-04-25 00:00:00  27493.1  27584.4  27311.0  27350.4   8920.125\n",
       "\n",
       "[100 rows x 5 columns]"
      ]
     },
     "execution_count": 17,
     "metadata": {},
     "output_type": "execute_result"
    }
   ],
   "source": [
    "bybit = ccxt.bybit() \n",
    "chart_df = get_df(bybit) \n",
    "chart_df = create_timestamps(chart_df, bybit) \n",
    "\n",
    "chart_df"
   ]
  },
  {
   "cell_type": "code",
   "execution_count": 18,
   "id": "48c7c20b-6fc0-4224-9826-ddc21b860e9c",
   "metadata": {},
   "outputs": [
    {
     "data": {
      "text/html": [
       "<div>\n",
       "<style scoped>\n",
       "    .dataframe tbody tr th:only-of-type {\n",
       "        vertical-align: middle;\n",
       "    }\n",
       "\n",
       "    .dataframe tbody tr th {\n",
       "        vertical-align: top;\n",
       "    }\n",
       "\n",
       "    .dataframe thead th {\n",
       "        text-align: right;\n",
       "    }\n",
       "</style>\n",
       "<table border=\"1\" class=\"dataframe\">\n",
       "  <thead>\n",
       "    <tr style=\"text-align: right;\">\n",
       "      <th></th>\n",
       "      <th>open</th>\n",
       "      <th>high</th>\n",
       "      <th>low</th>\n",
       "      <th>close</th>\n",
       "      <th>volume</th>\n",
       "      <th>RSI</th>\n",
       "    </tr>\n",
       "    <tr>\n",
       "      <th>datetime</th>\n",
       "      <th></th>\n",
       "      <th></th>\n",
       "      <th></th>\n",
       "      <th></th>\n",
       "      <th></th>\n",
       "      <th></th>\n",
       "    </tr>\n",
       "  </thead>\n",
       "  <tbody>\n",
       "    <tr>\n",
       "      <th>2023-04-24 04:00:00</th>\n",
       "      <td>27778.5</td>\n",
       "      <td>27784.5</td>\n",
       "      <td>27333.0</td>\n",
       "      <td>27445.9</td>\n",
       "      <td>19687.519</td>\n",
       "      <td>37.592849</td>\n",
       "    </tr>\n",
       "    <tr>\n",
       "      <th>2023-04-24 08:00:00</th>\n",
       "      <td>27445.9</td>\n",
       "      <td>27540.0</td>\n",
       "      <td>27136.0</td>\n",
       "      <td>27536.1</td>\n",
       "      <td>33313.203</td>\n",
       "      <td>40.100050</td>\n",
       "    </tr>\n",
       "    <tr>\n",
       "      <th>2023-04-24 12:00:00</th>\n",
       "      <td>27536.1</td>\n",
       "      <td>27700.0</td>\n",
       "      <td>27203.7</td>\n",
       "      <td>27248.2</td>\n",
       "      <td>38803.028</td>\n",
       "      <td>35.234393</td>\n",
       "    </tr>\n",
       "    <tr>\n",
       "      <th>2023-04-24 16:00:00</th>\n",
       "      <td>27248.2</td>\n",
       "      <td>27569.9</td>\n",
       "      <td>26933.0</td>\n",
       "      <td>27370.3</td>\n",
       "      <td>45864.424</td>\n",
       "      <td>38.635145</td>\n",
       "    </tr>\n",
       "    <tr>\n",
       "      <th>2023-04-24 20:00:00</th>\n",
       "      <td>27370.3</td>\n",
       "      <td>27550.0</td>\n",
       "      <td>27288.3</td>\n",
       "      <td>27493.1</td>\n",
       "      <td>11323.364</td>\n",
       "      <td>41.937283</td>\n",
       "    </tr>\n",
       "    <tr>\n",
       "      <th>2023-04-25 00:00:00</th>\n",
       "      <td>27493.1</td>\n",
       "      <td>27584.4</td>\n",
       "      <td>27311.0</td>\n",
       "      <td>27350.4</td>\n",
       "      <td>8920.125</td>\n",
       "      <td>39.291328</td>\n",
       "    </tr>\n",
       "  </tbody>\n",
       "</table>\n",
       "</div>"
      ],
      "text/plain": [
       "                        open     high      low    close     volume        RSI\n",
       "datetime                                                                     \n",
       "2023-04-24 04:00:00  27778.5  27784.5  27333.0  27445.9  19687.519  37.592849\n",
       "2023-04-24 08:00:00  27445.9  27540.0  27136.0  27536.1  33313.203  40.100050\n",
       "2023-04-24 12:00:00  27536.1  27700.0  27203.7  27248.2  38803.028  35.234393\n",
       "2023-04-24 16:00:00  27248.2  27569.9  26933.0  27370.3  45864.424  38.635145\n",
       "2023-04-24 20:00:00  27370.3  27550.0  27288.3  27493.1  11323.364  41.937283\n",
       "2023-04-25 00:00:00  27493.1  27584.4  27311.0  27350.4   8920.125  39.291328"
      ]
     },
     "execution_count": 18,
     "metadata": {},
     "output_type": "execute_result"
    }
   ],
   "source": [
    "# RSI 계산하기: 실제 서비스 단계에서는 더 많은 지표 추가해보는것도 가능  \n",
    "chart_df[\"RSI\"] = chart_df.ta.rsi(lookahead=False) \n",
    "chart_df.dropna(inplace=True) \n",
    "chart_df = chart_df.iloc[-6:] # 최근 4시간봉 6개만 (대략 하루 분량) 입력으로 활용 \n",
    "chart_df"
   ]
  },
  {
   "cell_type": "code",
   "execution_count": 19,
   "id": "30179a96-f9ab-46d6-afa3-0b130c72f117",
   "metadata": {},
   "outputs": [],
   "source": [
    "# 과거 3일동안의 공포 탐욕 지수 스크래핑 \n",
    "import requests \n",
    "import json\n",
    "\n",
    "url = \"https://api.alternative.me/fng/\"\n",
    "\n",
    "response = requests.get(url, params = {\"limit\":7, \"date_format\":\"kr\"})  \n",
    "\n",
    "fear_greed_data = json.loads(response.text) "
   ]
  },
  {
   "cell_type": "code",
   "execution_count": 20,
   "id": "98bfd7c0-5fda-4056-9c27-d3aaeac3994f",
   "metadata": {},
   "outputs": [],
   "source": [
    "fear_greed_values = []\n",
    "for d in fear_greed_data[\"data\"]:\n",
    "    fear_greed_values.append((d[\"value\"], d[\"value_classification\"])) "
   ]
  },
  {
   "cell_type": "code",
   "execution_count": 21,
   "id": "9e25dd85-61a9-48ba-a7a6-8195ddd6e861",
   "metadata": {},
   "outputs": [
    {
     "data": {
      "text/plain": [
       "[('53', 'Neutral'),\n",
       " ('53', 'Neutral'),\n",
       " ('56', 'Greed'),\n",
       " ('53', 'Neutral'),\n",
       " ('50', 'Neutral'),\n",
       " ('52', 'Neutral'),\n",
       " ('63', 'Greed')]"
      ]
     },
     "execution_count": 21,
     "metadata": {},
     "output_type": "execute_result"
    }
   ],
   "source": [
    "fear_greed_values"
   ]
  },
  {
   "cell_type": "code",
   "execution_count": 30,
   "id": "aec124ab-7c9e-4050-915f-b1e0e420027b",
   "metadata": {},
   "outputs": [],
   "source": [
    "openai.api_key = \"<YOUR OPENAI API KEY>\" \n",
    "\n",
    "close_str = str(chart_df[\"close\"].values) \n",
    "volume_str = str(chart_df[\"volume\"].values) \n",
    "rsi_str = str(chart_df[\"RSI\"].values) \n",
    "fear_greed_str = str(fear_greed_values) \n",
    "\n",
    "\n",
    "query = f\"가장 최근 BTCUSDT 4시간봉의 종가, 거래량, RSI 그리고 가장 최근 7일동안의 공포 탐욕 지수를 보고 비트코인 가격의 상황을 해석해줘 \\n\\n 종가: {close_str} \\n\\n 거래량: {volume_str} \\n\\n RSI: {rsi_str} \\n\\n 공포탐욕지수: {fear_greed_str}\"\n"
   ]
  },
  {
   "cell_type": "code",
   "execution_count": 32,
   "id": "663dfd57-be4b-4e26-9f0e-e56911460e89",
   "metadata": {},
   "outputs": [
    {
     "name": "stdout",
     "output_type": "stream",
     "text": [
      "ChatGPT가 현재 BTCUSDT 가격 지표를 보고 분석한 결과입니다:\n",
      "\n",
      "\n",
      "\n",
      "해당 정보를 종합적으로 분석해보면, 비트코인 가격이 상승하고 있는 추세임을 알 수 있습니다. \n",
      "\n",
      "종가 데이터를 보면 4시간 봉에서 일부 하락세가 보이지만 전체적으로는 상승하고 있는 경향이 있습니다. \n",
      "\n",
      "거래량 데이터를 보면 가격 상승과 함께 거래량이 증가하고 있는 것으로 보아 시장 참여자들이 증가하고 있는 것으로 추측할 수 있습니다. \n",
      "\n",
      "RSI 데이터를 보면 7일 전체적으로는 조금 낮은 수치를 보여주고 있는 것으로 보아, 조정 기간을 거쳐 상승하는 추세로 이어지고 있는 것으로 판단됩니다. \n",
      "\n",
      "마지막으로 공포탐욕 지수를 보면 최근 2일 동안은 중립적인 상태였지만, 이전 5일 동안은 공포보다는 탐욕의 상태를 보였으며, 이 또한 가격 상승의 신호로 해석됩니다. \n",
      "\n",
      "전반적으로 비트코인은 상승 기조를 보이고 있으며 이에 따라 거래 참여자들의 관심이 높아지고 있습니다. 다만, 일부 하락세가 나타나고 있는 만큼 지속적인 관찰이 필요할 것입니다.\n"
     ]
    }
   ],
   "source": [
    "response = openai.ChatCompletion.create(\n",
    "    model = \"gpt-3.5-turbo\",\n",
    "    messages = [\n",
    "        {\"role\": \"user\", \"content\": query}\n",
    "    ]\n",
    ") \n",
    "\n",
    "\n",
    "chatgpt_response = response[\"choices\"][0][\"message\"][\"content\"] \n",
    "\n",
    "print(\"ChatGPT가 현재 BTCUSDT 가격 지표를 보고 분석한 결과입니다:\\n\\n\\n\")\n",
    "print(chatgpt_response) "
   ]
  },
  {
   "cell_type": "markdown",
   "id": "0a20e632-4732-4686-ab0d-591831f3ee7c",
   "metadata": {},
   "source": [
    "# Analysis \n",
    "\n",
    "주어진 정보를 가지고 매우 해석을 잘하는걸로 보입니다. ChatGPT에게 가격 예측 같은 기능은 기대할 수 없지만, 주어진 정보를 조합하고 해석해서 추세 분석정도는 매우 잘하는걸로 보입니다. \n",
    "더 많은 개수의 종가 데이터, 아니면 다양한 시간대의 데이터도 입력으로 넣어주면서 prompt engineering을 통해서 얻을 수 있는 답변의 품질을 높일 수 있을 것 같습니다. 비트코인 투자하는 개인의 입장에서 좋은 지표로 사용할 수 있을것으로 보입니다. "
   ]
  },
  {
   "cell_type": "code",
   "execution_count": null,
   "id": "522ddaff-c3cb-4ecb-a497-004aa493e19c",
   "metadata": {},
   "outputs": [],
   "source": []
  },
  {
   "cell_type": "code",
   "execution_count": null,
   "id": "264defff-313d-4360-9c30-f23ead420513",
   "metadata": {},
   "outputs": [],
   "source": []
  },
  {
   "cell_type": "markdown",
   "id": "4be939cf-2c45-4b58-930f-780967b80762",
   "metadata": {},
   "source": [
    "# ** 비트코인 분석 툴2: 머신러닝/딥러닝을 활용한 시계열 예측 지표 예시 ** \n",
    "\n",
    "예시에서는 간단하게 모델 3개를 이용해서 종가 예측을 수행하고, 결과를 보여줍니다. 가볍게 동작하는 방식을 보여주는 취지로 코드를 제작했습니다. \n",
    "\n",
    "GPT 추세분석 기능과 함께 참고할 수 있는 지표라고 생각하시면 될 것 같습니다. 실제로 만들게 된다면 훨씬 더 다양한 입력 피처와 더 정교한 시계열 / 딥러닝 기반 시계열 예측 모델을 학습해서 진행합니다. "
   ]
  },
  {
   "cell_type": "code",
   "execution_count": 1,
   "id": "f186499e-dc32-4577-8f38-529bfa76de21",
   "metadata": {},
   "outputs": [],
   "source": [
    "import pandas as pd\n",
    "import numpy as np\n",
    "import matplotlib.pyplot as plt\n",
    "from pmdarima import auto_arima\n",
    "from sklearn.metrics import mean_squared_error \n",
    "from math import sqrt\n",
    "import json\n",
    "import ccxt"
   ]
  },
  {
   "cell_type": "code",
   "execution_count": 2,
   "id": "f5884131-bac1-4670-bd02-268b60f64cd7",
   "metadata": {},
   "outputs": [],
   "source": [
    "# BTCUSDT from binance \n",
    "def convert_json_to_pd(json_file: str):\n",
    "    with open(json_file) as f: \n",
    "        d = json.load(f) \n",
    "    chart_df = pd.DataFrame(d) \n",
    "    chart_df = chart_df.rename(columns={0:\"timestamp\", 1:\"open\", 2:\"high\", 3:\"low\", 4:\"close\", 5:\"volume\"})\n",
    "    binance = ccxt.binance() \n",
    "    dates = chart_df[\"timestamp\"].values \n",
    "    timestamp = [] \n",
    "    for i in range(len(dates)): \n",
    "        date_string = binance.iso8601(int(dates[i])) \n",
    "        date_string = date_string[:10] + \" \" + date_string[11:-5]\n",
    "        timestamp.append(date_string) \n",
    "    chart_df[\"datetime\"] = timestamp \n",
    "    chart_df.drop(columns={\"timestamp\"}, inplace=True) \n",
    "    chart_df.set_index(pd.DatetimeIndex(chart_df[\"datetime\"]), inplace=True) \n",
    "    return chart_df "
   ]
  },
  {
   "cell_type": "code",
   "execution_count": 3,
   "id": "175732ce-5a14-442c-a67d-0ce3b854e910",
   "metadata": {},
   "outputs": [],
   "source": [
    "# 30 minutes, 4 hours, 1 day \n",
    "df30m = convert_json_to_pd(\"BTC_USDT-30m-3.json\")\n",
    "df4h = convert_json_to_pd(\"BTC_USDT-4h-16.json\")\n",
    "df1d = convert_json_to_pd(\"BTC_USDT-1d.json\")"
   ]
  },
  {
   "cell_type": "markdown",
   "id": "b90f51ff-8dd0-4862-aee7-497bda209140",
   "metadata": {},
   "source": [
    "# 30분봉 예시 \n",
    "\n",
    "데모에서는 30분봉 기준으로만 추론 하는 예시를 보여줍니다. "
   ]
  },
  {
   "cell_type": "markdown",
   "id": "044c8482-e1d5-4ccf-846b-2af23fd8e7f1",
   "metadata": {},
   "source": [
    "## ARIMA 학습 + 추론 "
   ]
  },
  {
   "cell_type": "code",
   "execution_count": 4,
   "id": "e87cb044-6f74-497c-96d4-6311ee837faa",
   "metadata": {},
   "outputs": [
    {
     "name": "stdout",
     "output_type": "stream",
     "text": [
      "Performing stepwise search to minimize aic\n",
      " ARIMA(2,1,2)(0,0,0)[0] intercept   : AIC=2406.654, Time=0.27 sec\n",
      " ARIMA(0,1,0)(0,0,0)[0] intercept   : AIC=2404.094, Time=0.02 sec\n",
      " ARIMA(1,1,0)(0,0,0)[0] intercept   : AIC=2405.769, Time=0.02 sec\n",
      " ARIMA(0,1,1)(0,0,0)[0] intercept   : AIC=2405.703, Time=0.04 sec\n",
      " ARIMA(0,1,0)(0,0,0)[0]             : AIC=2404.344, Time=0.01 sec\n",
      " ARIMA(1,1,1)(0,0,0)[0] intercept   : AIC=2407.425, Time=0.10 sec\n",
      "\n",
      "Best model:  ARIMA(0,1,0)(0,0,0)[0] intercept\n",
      "Total fit time: 0.472 seconds\n"
     ]
    }
   ],
   "source": [
    "# 30분봉 200개가 주어졌을때, 미래 30분봉 10개 예측 \n",
    "train_df30m = df30m.iloc[-210:-10] \n",
    "test_df30m = df30m.iloc[-10:]  \n",
    "model = auto_arima(train_df30m[\"close\"], trace=True, error_action=\"ignore\", suppress_warnings=True) \n",
    "model.fit(train_df30m[\"close\"]) \n",
    "forecast = model.predict(n_periods=len(test_df30m)) "
   ]
  },
  {
   "cell_type": "code",
   "execution_count": 5,
   "id": "57b9235c-4a34-46f6-b874-d7a86582befe",
   "metadata": {},
   "outputs": [
    {
     "data": {
      "text/plain": [
       "2023-04-21 01:30:00    28239.278291\n",
       "2023-04-21 02:00:00    28228.546583\n",
       "2023-04-21 02:30:00    28217.814874\n",
       "2023-04-21 03:00:00    28207.083166\n",
       "2023-04-21 03:30:00    28196.351457\n",
       "2023-04-21 04:00:00    28185.619749\n",
       "2023-04-21 04:30:00    28174.888040\n",
       "2023-04-21 05:00:00    28164.156332\n",
       "2023-04-21 05:30:00    28153.424623\n",
       "2023-04-21 06:00:00    28142.692915\n",
       "Freq: 30T, dtype: float64"
      ]
     },
     "execution_count": 5,
     "metadata": {},
     "output_type": "execute_result"
    }
   ],
   "source": [
    "forecast = model.predict(n_periods=len(test_df30m)) \n",
    "forecast"
   ]
  },
  {
   "cell_type": "code",
   "execution_count": 6,
   "id": "c37f2861-35c0-490c-88e2-af0e7dad98e7",
   "metadata": {},
   "outputs": [
    {
     "name": "stdout",
     "output_type": "stream",
     "text": [
      "RMSE: 72.11799516108468\n"
     ]
    }
   ],
   "source": [
    "forecast_df = pd.DataFrame(forecast, index=test_df30m.index, columns=[\"Prediction\"]) \n",
    "rmse = sqrt(mean_squared_error(test_df30m[\"close\"], forecast_df[\"Prediction\"])) \n",
    "print(f\"RMSE: {rmse}\") "
   ]
  },
  {
   "cell_type": "markdown",
   "id": "90996167-6600-48c8-bd52-034bfe373b61",
   "metadata": {},
   "source": [
    "# FB Prophet 학습 + 추론"
   ]
  },
  {
   "cell_type": "code",
   "execution_count": 11,
   "id": "99add043-2bea-44a4-890b-d4c78648f419",
   "metadata": {},
   "outputs": [
    {
     "name": "stderr",
     "output_type": "stream",
     "text": [
      "Importing plotly failed. Interactive plots will not work.\n",
      "/tmp/ipykernel_273/6150894.py:9: SettingWithCopyWarning: \n",
      "A value is trying to be set on a copy of a slice from a DataFrame.\n",
      "Try using .loc[row_indexer,col_indexer] = value instead\n",
      "\n",
      "See the caveats in the documentation: https://pandas.pydata.org/pandas-docs/stable/user_guide/indexing.html#returning-a-view-versus-a-copy\n",
      "  prophet_train_df[\"ds\"] = prophet_train_df.index\n",
      "/opt/conda/lib/python3.8/site-packages/pandas/core/frame.py:5039: SettingWithCopyWarning: \n",
      "A value is trying to be set on a copy of a slice from a DataFrame\n",
      "\n",
      "See the caveats in the documentation: https://pandas.pydata.org/pandas-docs/stable/user_guide/indexing.html#returning-a-view-versus-a-copy\n",
      "  return super().rename(\n"
     ]
    },
    {
     "data": {
      "text/html": [
       "<div>\n",
       "<style scoped>\n",
       "    .dataframe tbody tr th:only-of-type {\n",
       "        vertical-align: middle;\n",
       "    }\n",
       "\n",
       "    .dataframe tbody tr th {\n",
       "        vertical-align: top;\n",
       "    }\n",
       "\n",
       "    .dataframe thead th {\n",
       "        text-align: right;\n",
       "    }\n",
       "</style>\n",
       "<table border=\"1\" class=\"dataframe\">\n",
       "  <thead>\n",
       "    <tr style=\"text-align: right;\">\n",
       "      <th></th>\n",
       "      <th>y</th>\n",
       "      <th>ds</th>\n",
       "    </tr>\n",
       "    <tr>\n",
       "      <th>datetime</th>\n",
       "      <th></th>\n",
       "      <th></th>\n",
       "    </tr>\n",
       "  </thead>\n",
       "  <tbody>\n",
       "    <tr>\n",
       "      <th>2023-04-12 17:30:00</th>\n",
       "      <td>30023.92</td>\n",
       "      <td>2023-04-12 17:30:00</td>\n",
       "    </tr>\n",
       "    <tr>\n",
       "      <th>2023-04-12 18:00:00</th>\n",
       "      <td>29952.72</td>\n",
       "      <td>2023-04-12 18:00:00</td>\n",
       "    </tr>\n",
       "    <tr>\n",
       "      <th>2023-04-12 18:30:00</th>\n",
       "      <td>29917.26</td>\n",
       "      <td>2023-04-12 18:30:00</td>\n",
       "    </tr>\n",
       "    <tr>\n",
       "      <th>2023-04-12 19:00:00</th>\n",
       "      <td>29824.68</td>\n",
       "      <td>2023-04-12 19:00:00</td>\n",
       "    </tr>\n",
       "    <tr>\n",
       "      <th>2023-04-12 19:30:00</th>\n",
       "      <td>29798.59</td>\n",
       "      <td>2023-04-12 19:30:00</td>\n",
       "    </tr>\n",
       "  </tbody>\n",
       "</table>\n",
       "</div>"
      ],
      "text/plain": [
       "                            y                  ds\n",
       "datetime                                         \n",
       "2023-04-12 17:30:00  30023.92 2023-04-12 17:30:00\n",
       "2023-04-12 18:00:00  29952.72 2023-04-12 18:00:00\n",
       "2023-04-12 18:30:00  29917.26 2023-04-12 18:30:00\n",
       "2023-04-12 19:00:00  29824.68 2023-04-12 19:00:00\n",
       "2023-04-12 19:30:00  29798.59 2023-04-12 19:30:00"
      ]
     },
     "execution_count": 11,
     "metadata": {},
     "output_type": "execute_result"
    }
   ],
   "source": [
    "from prophet import Prophet \n",
    "\n",
    "# 입력으로 30분봉 400개 활용 \n",
    "train_df30m = df30m.iloc[-410:-10] \n",
    "\n",
    "fb_prophet = Prophet() \n",
    "\n",
    "prophet_train_df = train_df30m[[\"close\"]] \n",
    "prophet_train_df[\"ds\"] = prophet_train_df.index \n",
    "prophet_train_df.rename(columns={\"close\":\"y\"}, inplace=True) \n",
    "\n",
    "prophet_train_df.head()"
   ]
  },
  {
   "cell_type": "code",
   "execution_count": 12,
   "id": "5832670f-6233-4e66-b57e-be1d5d4ec4d8",
   "metadata": {},
   "outputs": [
    {
     "name": "stderr",
     "output_type": "stream",
     "text": [
      "07:28:19 - cmdstanpy - INFO - Chain [1] start processing\n",
      "07:28:20 - cmdstanpy - INFO - Chain [1] done processing\n"
     ]
    },
    {
     "data": {
      "text/plain": [
       "<prophet.forecaster.Prophet at 0x7f399f7416a0>"
      ]
     },
     "execution_count": 12,
     "metadata": {},
     "output_type": "execute_result"
    }
   ],
   "source": [
    "fb_prophet.fit(prophet_train_df) "
   ]
  },
  {
   "cell_type": "code",
   "execution_count": 13,
   "id": "241c99f5-3fde-41cb-9b01-697678dd3be5",
   "metadata": {},
   "outputs": [
    {
     "data": {
      "text/html": [
       "<div>\n",
       "<style scoped>\n",
       "    .dataframe tbody tr th:only-of-type {\n",
       "        vertical-align: middle;\n",
       "    }\n",
       "\n",
       "    .dataframe tbody tr th {\n",
       "        vertical-align: top;\n",
       "    }\n",
       "\n",
       "    .dataframe thead th {\n",
       "        text-align: right;\n",
       "    }\n",
       "</style>\n",
       "<table border=\"1\" class=\"dataframe\">\n",
       "  <thead>\n",
       "    <tr style=\"text-align: right;\">\n",
       "      <th></th>\n",
       "      <th>ds</th>\n",
       "      <th>yhat</th>\n",
       "    </tr>\n",
       "  </thead>\n",
       "  <tbody>\n",
       "    <tr>\n",
       "      <th>400</th>\n",
       "      <td>2023-04-21 01:30:00</td>\n",
       "      <td>28183.248289</td>\n",
       "    </tr>\n",
       "    <tr>\n",
       "      <th>401</th>\n",
       "      <td>2023-04-21 02:00:00</td>\n",
       "      <td>28169.680058</td>\n",
       "    </tr>\n",
       "    <tr>\n",
       "      <th>402</th>\n",
       "      <td>2023-04-21 02:30:00</td>\n",
       "      <td>28160.916852</td>\n",
       "    </tr>\n",
       "    <tr>\n",
       "      <th>403</th>\n",
       "      <td>2023-04-21 03:00:00</td>\n",
       "      <td>28157.459424</td>\n",
       "    </tr>\n",
       "    <tr>\n",
       "      <th>404</th>\n",
       "      <td>2023-04-21 03:30:00</td>\n",
       "      <td>28158.791914</td>\n",
       "    </tr>\n",
       "    <tr>\n",
       "      <th>405</th>\n",
       "      <td>2023-04-21 04:00:00</td>\n",
       "      <td>28163.339484</td>\n",
       "    </tr>\n",
       "    <tr>\n",
       "      <th>406</th>\n",
       "      <td>2023-04-21 04:30:00</td>\n",
       "      <td>28168.680960</td>\n",
       "    </tr>\n",
       "    <tr>\n",
       "      <th>407</th>\n",
       "      <td>2023-04-21 05:00:00</td>\n",
       "      <td>28171.986334</td>\n",
       "    </tr>\n",
       "    <tr>\n",
       "      <th>408</th>\n",
       "      <td>2023-04-21 05:30:00</td>\n",
       "      <td>28170.588710</td>\n",
       "    </tr>\n",
       "    <tr>\n",
       "      <th>409</th>\n",
       "      <td>2023-04-21 06:00:00</td>\n",
       "      <td>28162.560395</td>\n",
       "    </tr>\n",
       "  </tbody>\n",
       "</table>\n",
       "</div>"
      ],
      "text/plain": [
       "                     ds          yhat\n",
       "400 2023-04-21 01:30:00  28183.248289\n",
       "401 2023-04-21 02:00:00  28169.680058\n",
       "402 2023-04-21 02:30:00  28160.916852\n",
       "403 2023-04-21 03:00:00  28157.459424\n",
       "404 2023-04-21 03:30:00  28158.791914\n",
       "405 2023-04-21 04:00:00  28163.339484\n",
       "406 2023-04-21 04:30:00  28168.680960\n",
       "407 2023-04-21 05:00:00  28171.986334\n",
       "408 2023-04-21 05:30:00  28170.588710\n",
       "409 2023-04-21 06:00:00  28162.560395"
      ]
     },
     "execution_count": 13,
     "metadata": {},
     "output_type": "execute_result"
    }
   ],
   "source": [
    "future = fb_prophet.make_future_dataframe(periods=10, freq=\"30min\") \n",
    "forecast = fb_prophet.predict(future) \n",
    "fb_prophet_df = forecast[[\"ds\", \"yhat\"]].iloc[-10:] \n",
    "\n",
    "fb_prophet_df"
   ]
  },
  {
   "cell_type": "code",
   "execution_count": 14,
   "id": "ea11a6ad-1ebb-4da1-9104-f75016184d3b",
   "metadata": {},
   "outputs": [
    {
     "name": "stdout",
     "output_type": "stream",
     "text": [
      "RMSE: 90.6945254465367\n"
     ]
    }
   ],
   "source": [
    "rmse = sqrt(mean_squared_error(test_df30m[\"close\"], fb_prophet_df[\"yhat\"])) \n",
    "print(f\"RMSE: {rmse}\") "
   ]
  },
  {
   "cell_type": "code",
   "execution_count": 15,
   "id": "805f31bf-abea-4545-8fed-c0fbccacbe78",
   "metadata": {},
   "outputs": [],
   "source": [
    "fb_prophet_df.index = fb_prophet_df[\"ds\"] \n"
   ]
  },
  {
   "cell_type": "code",
   "execution_count": 16,
   "id": "3d47fd9a-b4ff-4a6b-9c9c-06065587855a",
   "metadata": {},
   "outputs": [
    {
     "data": {
      "image/png": "[encoded data removed]",
      "text/plain": [
       "<Figure size 864x432 with 1 Axes>"
      ]
     },
     "metadata": {
      "needs_background": "light"
     },
     "output_type": "display_data"
    }
   ],
   "source": [
    "training = train_df30m[\"close\"].values[-20:] \n",
    "train_time = train_df30m[\"datetime\"].values[-20:]  \n",
    "\n",
    "actual = test_df30m[\"close\"].values \n",
    "actual_time = test_df30m[\"datetime\"].values \n",
    "\n",
    "forecast_df[\"datetime\"] = forecast_df.index \n",
    "arima = forecast_df[\"Prediction\"].values \n",
    "arima_time = forecast_df[\"datetime\"].values \n",
    "arima_time_dt = [] \n",
    "for i in range(len(arima_time)): \n",
    "    cur_dt = pd.to_datetime(arima_time[i]).strftime(\"%Y-%m-%d %H:%M:%S\") \n",
    "    arima_time_dt.append(cur_dt) \n",
    "\n",
    "prophet = fb_prophet_df[\"yhat\"].values \n",
    "prophet_time = fb_prophet_df[\"ds\"].values \n",
    "prophet_time_dt = [] \n",
    "for i in range(len(arima_time)): \n",
    "    cur_dt = pd.to_datetime(prophet_time[i]).strftime(\"%Y-%m-%d %H:%M:%S\") \n",
    "    prophet_time_dt.append(cur_dt) \n",
    "\n",
    "\n",
    "plt.figure(figsize=(12, 6)) \n",
    "plt.plot(train_time, training, label=\"Training\") \n",
    "plt.plot(np.concatenate([train_time[-1:], actual_time]), np.concatenate([training[-1:], actual]), label=\"Actual\") \n",
    "plt.plot(np.concatenate([train_time[-1:], arima_time_dt]), np.concatenate([training[-1:], arima]), label=\"ARIMA\") \n",
    "plt.plot(np.concatenate([train_time[-1:], prophet_time_dt]), np.concatenate([training[-1:], prophet]), label=\"FB Prophet\") \n",
    "plt.title(\"BTC Close Price Predictions\") \n",
    "plt.xlabel(\"Date\") \n",
    "plt.xticks(rotation=45)\n",
    "plt.ylabel(\"Close Price\") \n",
    "plt.legend()\n",
    "plt.show()  "
   ]
  },
  {
   "cell_type": "markdown",
   "id": "04c8497f-b4ed-4936-b628-7d9aaa0f072b",
   "metadata": {},
   "source": [
    "# GRU Seq2Seq 학습 + 추론 "
   ]
  },
  {
   "cell_type": "code",
   "execution_count": 88,
   "id": "cb98141d-890a-4633-9145-ff1e723cca99",
   "metadata": {},
   "outputs": [
    {
     "name": "stdout",
     "output_type": "stream",
     "text": [
      "Mon Apr 24 08:24:27 2023       \n",
      "+-----------------------------------------------------------------------------+\n",
      "| NVIDIA-SMI 510.73.05    Driver Version: 510.73.05    CUDA Version: 11.6     |\n",
      "|-------------------------------+----------------------+----------------------+\n",
      "| GPU  Name        Persistence-M| Bus-Id        Disp.A | Volatile Uncorr. ECC |\n",
      "| Fan  Temp  Perf  Pwr:Usage/Cap|         Memory-Usage | GPU-Util  Compute M. |\n",
      "|                               |                      |               MIG M. |\n",
      "|===============================+======================+======================|\n",
      "|   0  NVIDIA RTX A6000    Off  | 00000000:00:05.0 Off |                  Off |\n",
      "| 30%   51C    P8    37W / 300W |   1437MiB / 49140MiB |      0%      Default |\n",
      "|                               |                      |                  N/A |\n",
      "+-------------------------------+----------------------+----------------------+\n",
      "                                                                               \n",
      "+-----------------------------------------------------------------------------+\n",
      "| Processes:                                                                  |\n",
      "|  GPU   GI   CI        PID   Type   Process name                  GPU Memory |\n",
      "|        ID   ID                                                   Usage      |\n",
      "|=============================================================================|\n",
      "+-----------------------------------------------------------------------------+\n"
     ]
    }
   ],
   "source": [
    "!nvidia-smi"
   ]
  },
  {
   "cell_type": "code",
   "execution_count": 185,
   "id": "3d92e0a2-b3a4-45cc-a86a-e2d86985934f",
   "metadata": {},
   "outputs": [],
   "source": [
    "import pandas as pd \n",
    "import numpy as np \n",
    "from torch import nn \n",
    "import torch\n",
    "from torch.utils.data import Dataset, DataLoader \n",
    "from sklearn.preprocessing import StandardScaler\n",
    "from tqdm.auto import tqdm"
   ]
  },
  {
   "cell_type": "code",
   "execution_count": 186,
   "id": "7628cfca-8a50-4311-8a23-8dc7c8264aca",
   "metadata": {},
   "outputs": [
    {
     "data": {
      "text/plain": [
       "(99234, 6)"
      ]
     },
     "execution_count": 186,
     "metadata": {},
     "output_type": "execute_result"
    }
   ],
   "source": [
    "df30m = convert_json_to_pd(\"BTC_USDT-30m-3.json\")\n",
    "df30m.shape"
   ]
  },
  {
   "cell_type": "code",
   "execution_count": 187,
   "id": "8b6ffa7e-eac8-410a-be2a-2926a09a4f30",
   "metadata": {},
   "outputs": [],
   "source": [
    "train_set = df30m.iloc[:-58] \n",
    "test_set = df30m.iloc[-58:]"
   ]
  },
  {
   "cell_type": "code",
   "execution_count": 190,
   "id": "42bbb753-70cb-423e-8217-a22335448848",
   "metadata": {},
   "outputs": [
    {
     "data": {
      "text/plain": [
       "((79340, 6), (19836, 6))"
      ]
     },
     "execution_count": 190,
     "metadata": {},
     "output_type": "execute_result"
    }
   ],
   "source": [
    "train_size = int(train_set.shape[0] * 0.8) \n",
    "train_df = train_set.iloc[:train_size] \n",
    "val_df = train_set.iloc[train_size:] \n",
    "\n",
    "train_df.shape, val_df.shape"
   ]
  },
  {
   "cell_type": "code",
   "execution_count": 191,
   "id": "4c0311ea-2fbf-48ca-928c-145d0f28a1db",
   "metadata": {},
   "outputs": [
    {
     "name": "stderr",
     "output_type": "stream",
     "text": [
      "/opt/conda/lib/python3.8/site-packages/pandas/core/frame.py:4906: SettingWithCopyWarning: \n",
      "A value is trying to be set on a copy of a slice from a DataFrame\n",
      "\n",
      "See the caveats in the documentation: https://pandas.pydata.org/pandas-docs/stable/user_guide/indexing.html#returning-a-view-versus-a-copy\n",
      "  return super().drop(\n"
     ]
    }
   ],
   "source": [
    "train_df.drop(columns={\"datetime\"}, inplace=True) \n",
    "val_df.drop(columns={\"datetime\"}, inplace=True) "
   ]
  },
  {
   "cell_type": "code",
   "execution_count": 192,
   "id": "97c641e6-1301-48ea-b693-e87edbade1c5",
   "metadata": {},
   "outputs": [],
   "source": [
    "scaler = StandardScaler() \n",
    "\n",
    "train_close = train_df[\"close\"].values.reshape((-1,1))  \n",
    "val_close = val_df[\"close\"].values.reshape((-1,1)) \n",
    "\n",
    "scaler.fit(train_close) \n",
    "\n",
    "train_close = scaler.transform(train_close) \n",
    "val_close = scaler.transform(val_close) "
   ]
  },
  {
   "cell_type": "code",
   "execution_count": 194,
   "id": "6729b0a5-5d19-4bd1-a395-5d8ed7367b4f",
   "metadata": {},
   "outputs": [
    {
     "data": {
      "application/vnd.jupyter.widget-view+json": {
       "model_id": "976ba6d566724533b58d3334ea46c95d",
       "version_major": 2,
       "version_minor": 0
      },
      "text/plain": [
       "  0%|          | 0/79282 [00:00<?, ?it/s]"
      ]
     },
     "metadata": {},
     "output_type": "display_data"
    },
    {
     "data": {
      "application/vnd.jupyter.widget-view+json": {
       "model_id": "fe2539aa80914d70932fd5aec875c046",
       "version_major": 2,
       "version_minor": 0
      },
      "text/plain": [
       "  0%|          | 0/19778 [00:00<?, ?it/s]"
      ]
     },
     "metadata": {},
     "output_type": "display_data"
    },
    {
     "data": {
      "text/plain": [
       "(torch.Size([79282, 48, 1]),\n",
       " torch.Size([79282, 11, 1]),\n",
       " torch.Size([19778, 48, 1]),\n",
       " torch.Size([19778, 11, 1]))"
      ]
     },
     "execution_count": 194,
     "metadata": {},
     "output_type": "execute_result"
    }
   ],
   "source": [
    "# 입력으로 30분봉 48개 (24시간 분량), 출력으로 30분봉 10개  \n",
    "X_train, Y_train = [], [] \n",
    "\n",
    "seq_len = 48\n",
    "target_len = 10 \n",
    "\n",
    "for i in tqdm(range(train_df.shape[0] - seq_len - target_len), position=0, leave=True): \n",
    "    x = train_close[i:i+seq_len]\n",
    "    y = train_close[i+seq_len:i+seq_len+target_len]\n",
    "    y0 = np.zeros([1]).reshape((1,1)) # 디코더 첫 입력 추가 \n",
    "    X_train.append(x) \n",
    "    Y_train.append(np.concatenate([y0, y])) \n",
    "    \n",
    "    \n",
    "X_val, Y_val = [], [] \n",
    "for i in tqdm(range(val_df.shape[0] - seq_len - target_len), position=0, leave=True): \n",
    "    x = val_close[i:i+seq_len]\n",
    "    y = val_close[i+seq_len:i+seq_len+target_len]\n",
    "    y0 = np.zeros([1]).reshape((1,1)) # 디코더 첫 입력 추가 \n",
    "    X_val.append(x) \n",
    "    Y_val.append(np.concatenate([y0, y], axis=0))  \n",
    "\n",
    "    \n",
    "X_train = torch.tensor(X_train).float()  \n",
    "Y_train = torch.tensor(Y_train).float()  \n",
    "\n",
    "X_val = torch.tensor(X_val).float() \n",
    "Y_val = torch.tensor(Y_val).float() \n",
    "\n",
    "\n",
    "X_train = torch.reshape(X_train, (-1, seq_len, 1)) \n",
    "X_val = torch.reshape(X_val, (-1, seq_len, 1)) \n",
    "Y_train = torch.reshape(Y_train, (-1, target_len+1, 1))\n",
    "Y_val = torch.reshape(Y_val, (-1, target_len+1, 1)) \n",
    "\n",
    "X_train.shape, Y_train.shape, X_val.shape, Y_val.shape"
   ]
  },
  {
   "cell_type": "code",
   "execution_count": 199,
   "id": "e6a2bcae-511f-4a50-a1e9-0c9e7c9b5aab",
   "metadata": {},
   "outputs": [],
   "source": [
    "device = torch.device(\"cuda:0\") \n",
    "target_n = 1 \n",
    "learning_rate = 1e-3 \n",
    "batch_size = 256 \n",
    "epochs = 50\n",
    "teacher_forcing = True \n",
    "n_layers = 3 \n",
    "dropout = 0.2 \n",
    "window_size = seq_len # 인코더 시퀀스 길이 \n",
    "future_size = target_len # 디코더 시퀀스 길이 \n",
    "hidden_dim = 128 \n",
    "save_path = \"best_gru.pt\" "
   ]
  },
  {
   "cell_type": "code",
   "execution_count": 196,
   "id": "a3d65108-5f2b-4ee0-8199-af5aebab872b",
   "metadata": {},
   "outputs": [],
   "source": [
    "class CustomDataset(Dataset): \n",
    "    def __init__(self, encoder_input, decoder_input): \n",
    "        self.encoder_input = encoder_input \n",
    "        self.decoder_input = decoder_input \n",
    "    def __len__(self): \n",
    "        return len(self.encoder_input) \n",
    "    def __getitem__(self, i): \n",
    "        return {\n",
    "            \"encoder_input\": torch.tensor(self.encoder_input[i], dtype=torch.float32), \n",
    "            \"decoder_input\": torch.tensor(self.decoder_input[i], dtype=torch.float32) \n",
    "        }"
   ]
  },
  {
   "cell_type": "code",
   "execution_count": 200,
   "id": "7bdceacd-9147-4778-8693-6063112aaf87",
   "metadata": {},
   "outputs": [],
   "source": [
    "train_dataset = CustomDataset(X_train, Y_train) \n",
    "val_dataset = CustomDataset(X_val, Y_val) \n",
    "\n",
    "train_dataloader = torch.utils.data.DataLoader(train_dataset, batch_size = batch_size, shuffle = True) \n",
    "val_dataloader = torch.utils.data.DataLoader(val_dataset, batch_size = batch_size, shuffle = False) "
   ]
  },
  {
   "cell_type": "code",
   "execution_count": 201,
   "id": "1de1d4ab-2733-44c8-8a02-f3021b740ecc",
   "metadata": {},
   "outputs": [],
   "source": [
    "# 모델 정의 \n",
    "class Encoder(nn.Module): \n",
    "    def __init__(self, input_dim, hidden_dim, n_layers, dropout): \n",
    "        super().__init__() \n",
    "        self.n_layers = n_layers \n",
    "        self.rnn = nn.GRU(input_dim, hidden_dim, n_layers, dropout=dropout)\n",
    "        self.dropout = nn.Dropout(dropout)         \n",
    "    def forward(self, inp_seq): \n",
    "        inp_seq = inp_seq.permute(1,0,2) \n",
    "        outputs, hidden = self.rnn(inp_seq) \n",
    "        return outputs, hidden\n",
    "    \n",
    "class BahdanauAttention(nn.Module): \n",
    "    def __init__(self, dec_output_dim, units): \n",
    "        super(BahdanauAttention, self).__init__() \n",
    "        self.W1 = nn.Linear(dec_output_dim, units) \n",
    "        self.W2 = nn.Linear(dec_output_dim, units) \n",
    "        self.V = nn.Linear(dec_output_dim, 1) \n",
    "    def forward(self, hidden, enc_output): \n",
    "        query_with_time_axis = hidden.unsqueeze(1) \n",
    "        score = self.V(torch.tanh(self.W1(query_with_time_axis) + self.W2(enc_output))) \n",
    "        attention_weights = torch.softmax(score, axis=1) \n",
    "        context_vector = attention_weights * enc_output \n",
    "        context_vector = torch.sum(context_vector, dim = 1) \n",
    "        return context_vector, attention_weights \n",
    "    \n",
    "class Decoder(nn.Module): \n",
    "    def __init__(self, dec_feature_size, encoder_hidden_dim, output_dim, decoder_hidden_dim, n_layers, dropout, attention):\n",
    "        super().__init__() \n",
    "        self.output_dim = output_dim \n",
    "        self.decoder_hidden_dim = decoder_hidden_dim \n",
    "        self.n_layers = n_layers \n",
    "        self.attention = attention \n",
    "        self.layer = nn.Linear(dec_feature_size, encoder_hidden_dim) \n",
    "        self.rnn = nn.GRU(encoder_hidden_dim*2, decoder_hidden_dim, n_layers, dropout=dropout) \n",
    "        self.fc_out = nn.Linear(hidden_dim, output_dim) \n",
    "        self.dropout = nn.Dropout(dropout) \n",
    "    def forward(self, enc_output, dec_input, hidden): \n",
    "        dec_input = self.layer(dec_input) \n",
    "        context_vector, attention_weight = self.attention(hidden, enc_output) \n",
    "        dec_input = torch.cat([torch.sum(context_vector, dim=0), dec_input], dim=1) \n",
    "        dec_input = dec_input.unsqueeze(0) \n",
    "        output, hidden = self.rnn(dec_input, hidden) \n",
    "        prediction = self.fc_out(output.sum(0)) \n",
    "        return prediction, hidden\n",
    "    \n",
    "class Seq2Seq(nn.Module): \n",
    "    def __init__(self, encoder, decoder, attention): \n",
    "        super().__init__() \n",
    "        self.encoder = encoder\n",
    "        self.decoder = decoder \n",
    "    def forward(self, encoder_input, decoder_input, teacher_forcing=False):\n",
    "        batch_size = decoder_input.size(0)\n",
    "        trg_len = decoder_input.size(1) \n",
    "        outputs = torch.zeros(batch_size, trg_len-1, self.decoder.output_dim).to(device) \n",
    "        enc_output, hidden = self.encoder(encoder_input) \n",
    "        dec_input = decoder_input[:,0] \n",
    "        for t in range(1, trg_len): \n",
    "            output, hidden = self.decoder(enc_output, dec_input, hidden) \n",
    "            outputs[:,t-1] = output\n",
    "            if teacher_forcing == True: \n",
    "                dec_input = decoder_input[:,t] \n",
    "            else: \n",
    "                dec_input = output \n",
    "        return outputs "
   ]
  },
  {
   "cell_type": "code",
   "execution_count": 202,
   "id": "4a31b530-ee85-4847-9344-fdcf4b8497de",
   "metadata": {},
   "outputs": [],
   "source": [
    "encoder = Encoder(input_dim = X_train.shape[-1], hidden_dim = hidden_dim, n_layers = n_layers, dropout=dropout) \n",
    "attention = BahdanauAttention(dec_output_dim=hidden_dim, units=hidden_dim) \n",
    "decoder = Decoder(\n",
    "    dec_feature_size = target_n, encoder_hidden_dim=hidden_dim, output_dim=target_n, \n",
    "    decoder_hidden_dim=hidden_dim, n_layers=n_layers, dropout=dropout, \n",
    "    attention=attention \n",
    ")\n",
    "\n",
    "model = Seq2Seq(encoder, decoder, attention) \n",
    "model = model.to(device)"
   ]
  },
  {
   "cell_type": "code",
   "execution_count": 203,
   "id": "d8aa0b81-9212-4468-bbf5-514fd2d010dd",
   "metadata": {},
   "outputs": [
    {
     "data": {
      "text/plain": [
       "Seq2Seq(\n",
       "  (encoder): Encoder(\n",
       "    (rnn): GRU(1, 128, num_layers=3, dropout=0.2)\n",
       "    (dropout): Dropout(p=0.2, inplace=False)\n",
       "  )\n",
       "  (decoder): Decoder(\n",
       "    (attention): BahdanauAttention(\n",
       "      (W1): Linear(in_features=128, out_features=128, bias=True)\n",
       "      (W2): Linear(in_features=128, out_features=128, bias=True)\n",
       "      (V): Linear(in_features=128, out_features=1, bias=True)\n",
       "    )\n",
       "    (layer): Linear(in_features=1, out_features=128, bias=True)\n",
       "    (rnn): GRU(256, 128, num_layers=3, dropout=0.2)\n",
       "    (fc_out): Linear(in_features=128, out_features=1, bias=True)\n",
       "    (dropout): Dropout(p=0.2, inplace=False)\n",
       "  )\n",
       ")"
      ]
     },
     "execution_count": 203,
     "metadata": {},
     "output_type": "execute_result"
    }
   ],
   "source": [
    "# 모델 구조 살펴보기 \n",
    "model"
   ]
  },
  {
   "cell_type": "code",
   "execution_count": 204,
   "id": "ef449a5c-ec84-43d2-8b85-eecb03fd5633",
   "metadata": {},
   "outputs": [],
   "source": [
    "loss_func = nn.SmoothL1Loss() \n",
    "optimizer = torch.optim.AdamW(model.parameters(), lr=learning_rate) \n",
    "\n",
    "def train_step(batch_item, epoch, batch, training, teacher_forcing):\n",
    "    encoder_input = batch_item['encoder_input'].to(device)\n",
    "    decoder_input = batch_item['decoder_input'].to(device)\n",
    "    if training is True:\n",
    "        model.train()\n",
    "        optimizer.zero_grad()\n",
    "        with torch.cuda.amp.autocast():\n",
    "            output = model(encoder_input, decoder_input, teacher_forcing)\n",
    "            loss = loss_func(output, decoder_input[:,1:])\n",
    "        loss.backward()\n",
    "        optimizer.step()\n",
    "        \n",
    "        return loss\n",
    "    else:\n",
    "        model.eval()\n",
    "        with torch.no_grad():\n",
    "            output = model(encoder_input, decoder_input, False)\n",
    "            loss = loss_func(output, decoder_input[:,1:])\n",
    "        return loss "
   ]
  },
  {
   "cell_type": "code",
   "execution_count": 205,
   "id": "45a6bf7a-4a16-4fc2-a04b-9d4872096699",
   "metadata": {},
   "outputs": [
    {
     "data": {
      "application/vnd.jupyter.widget-view+json": {
       "model_id": "bc32925ca34140ff86ae6281e528261b",
       "version_major": 2,
       "version_minor": 0
      },
      "text/plain": [
       "Epochs:   0%|          | 0/50 [00:00<?, ?it/s]"
      ]
     },
     "metadata": {},
     "output_type": "display_data"
    },
    {
     "data": {
      "application/vnd.jupyter.widget-view+json": {
       "model_id": "cba68ac1820d406f99018257658ff8f9",
       "version_major": 2,
       "version_minor": 0
      },
      "text/plain": [
       "  0%|          | 0/310 [00:00<?, ?it/s]"
      ]
     },
     "metadata": {},
     "output_type": "display_data"
    },
    {
     "name": "stderr",
     "output_type": "stream",
     "text": [
      "/tmp/ipykernel_273/3071444893.py:9: UserWarning: To copy construct from a tensor, it is recommended to use sourceTensor.clone().detach() or sourceTensor.clone().detach().requires_grad_(True), rather than torch.tensor(sourceTensor).\n",
      "  \"encoder_input\": torch.tensor(self.encoder_input[i], dtype=torch.float32),\n",
      "/tmp/ipykernel_273/3071444893.py:10: UserWarning: To copy construct from a tensor, it is recommended to use sourceTensor.clone().detach() or sourceTensor.clone().detach().requires_grad_(True), rather than torch.tensor(sourceTensor).\n",
      "  \"decoder_input\": torch.tensor(self.decoder_input[i], dtype=torch.float32)\n"
     ]
    },
    {
     "data": {
      "application/vnd.jupyter.widget-view+json": {
       "model_id": "9862f28e2fd647a181e869df15d52e9b",
       "version_major": 2,
       "version_minor": 0
      },
      "text/plain": [
       "  0%|          | 0/78 [00:00<?, ?it/s]"
      ]
     },
     "metadata": {},
     "output_type": "display_data"
    },
    {
     "data": {
      "application/vnd.jupyter.widget-view+json": {
       "model_id": "d1bef3ecc073439e9780d66da78bb766",
       "version_major": 2,
       "version_minor": 0
      },
      "text/plain": [
       "  0%|          | 0/310 [00:00<?, ?it/s]"
      ]
     },
     "metadata": {},
     "output_type": "display_data"
    },
    {
     "data": {
      "application/vnd.jupyter.widget-view+json": {
       "model_id": "d69d2ec9d5c1430e801906fa17aad8b1",
       "version_major": 2,
       "version_minor": 0
      },
      "text/plain": [
       "  0%|          | 0/78 [00:00<?, ?it/s]"
      ]
     },
     "metadata": {},
     "output_type": "display_data"
    },
    {
     "data": {
      "application/vnd.jupyter.widget-view+json": {
       "model_id": "3216afa540254da6aa65cb85771a4082",
       "version_major": 2,
       "version_minor": 0
      },
      "text/plain": [
       "  0%|          | 0/310 [00:00<?, ?it/s]"
      ]
     },
     "metadata": {},
     "output_type": "display_data"
    },
    {
     "data": {
      "application/vnd.jupyter.widget-view+json": {
       "model_id": "7f6b50538dd841afba6947804fbbd721",
       "version_major": 2,
       "version_minor": 0
      },
      "text/plain": [
       "  0%|          | 0/78 [00:00<?, ?it/s]"
      ]
     },
     "metadata": {},
     "output_type": "display_data"
    },
    {
     "data": {
      "application/vnd.jupyter.widget-view+json": {
       "model_id": "d55541376bf74f80a0037e58717d5077",
       "version_major": 2,
       "version_minor": 0
      },
      "text/plain": [
       "  0%|          | 0/310 [00:00<?, ?it/s]"
      ]
     },
     "metadata": {},
     "output_type": "display_data"
    },
    {
     "data": {
      "application/vnd.jupyter.widget-view+json": {
       "model_id": "598ed5b10a1a4381933e8ad5fc9ff2ab",
       "version_major": 2,
       "version_minor": 0
      },
      "text/plain": [
       "  0%|          | 0/78 [00:00<?, ?it/s]"
      ]
     },
     "metadata": {},
     "output_type": "display_data"
    },
    {
     "data": {
      "application/vnd.jupyter.widget-view+json": {
       "model_id": "8eba525296f84caebdb6987c5c514dee",
       "version_major": 2,
       "version_minor": 0
      },
      "text/plain": [
       "  0%|          | 0/310 [00:00<?, ?it/s]"
      ]
     },
     "metadata": {},
     "output_type": "display_data"
    },
    {
     "data": {
      "application/vnd.jupyter.widget-view+json": {
       "model_id": "ffc22b95eecc49149eb29858239d4318",
       "version_major": 2,
       "version_minor": 0
      },
      "text/plain": [
       "  0%|          | 0/78 [00:00<?, ?it/s]"
      ]
     },
     "metadata": {},
     "output_type": "display_data"
    },
    {
     "data": {
      "application/vnd.jupyter.widget-view+json": {
       "model_id": "68d0d35c6260492fa5a6b924901a3b0b",
       "version_major": 2,
       "version_minor": 0
      },
      "text/plain": [
       "  0%|          | 0/310 [00:00<?, ?it/s]"
      ]
     },
     "metadata": {},
     "output_type": "display_data"
    },
    {
     "data": {
      "application/vnd.jupyter.widget-view+json": {
       "model_id": "165ec137ca4846769a260de22140be30",
       "version_major": 2,
       "version_minor": 0
      },
      "text/plain": [
       "  0%|          | 0/78 [00:00<?, ?it/s]"
      ]
     },
     "metadata": {},
     "output_type": "display_data"
    },
    {
     "data": {
      "application/vnd.jupyter.widget-view+json": {
       "model_id": "21dbcbfd4a4d4ca5814fdc617562c097",
       "version_major": 2,
       "version_minor": 0
      },
      "text/plain": [
       "  0%|          | 0/310 [00:00<?, ?it/s]"
      ]
     },
     "metadata": {},
     "output_type": "display_data"
    },
    {
     "data": {
      "application/vnd.jupyter.widget-view+json": {
       "model_id": "4cbb46cd264a4efdb82a7f37763d3760",
       "version_major": 2,
       "version_minor": 0
      },
      "text/plain": [
       "  0%|          | 0/78 [00:00<?, ?it/s]"
      ]
     },
     "metadata": {},
     "output_type": "display_data"
    },
    {
     "data": {
      "application/vnd.jupyter.widget-view+json": {
       "model_id": "61a03e2e154c4d65b002b2c3fd8b5df4",
       "version_major": 2,
       "version_minor": 0
      },
      "text/plain": [
       "  0%|          | 0/310 [00:00<?, ?it/s]"
      ]
     },
     "metadata": {},
     "output_type": "display_data"
    },
    {
     "data": {
      "application/vnd.jupyter.widget-view+json": {
       "model_id": "e9ea0ae4ba3142f09344c59a770b6665",
       "version_major": 2,
       "version_minor": 0
      },
      "text/plain": [
       "  0%|          | 0/78 [00:00<?, ?it/s]"
      ]
     },
     "metadata": {},
     "output_type": "display_data"
    },
    {
     "data": {
      "application/vnd.jupyter.widget-view+json": {
       "model_id": "a1a6a9b6cdbc4c478aacb6cfc6913387",
       "version_major": 2,
       "version_minor": 0
      },
      "text/plain": [
       "  0%|          | 0/310 [00:00<?, ?it/s]"
      ]
     },
     "metadata": {},
     "output_type": "display_data"
    },
    {
     "data": {
      "application/vnd.jupyter.widget-view+json": {
       "model_id": "7cfcf17304194747b7a54074eb7e2c6f",
       "version_major": 2,
       "version_minor": 0
      },
      "text/plain": [
       "  0%|          | 0/78 [00:00<?, ?it/s]"
      ]
     },
     "metadata": {},
     "output_type": "display_data"
    },
    {
     "data": {
      "application/vnd.jupyter.widget-view+json": {
       "model_id": "f7cce0bb46b4410cbd521d469f2fe795",
       "version_major": 2,
       "version_minor": 0
      },
      "text/plain": [
       "  0%|          | 0/310 [00:00<?, ?it/s]"
      ]
     },
     "metadata": {},
     "output_type": "display_data"
    },
    {
     "data": {
      "application/vnd.jupyter.widget-view+json": {
       "model_id": "67ddb52a762c42e7b92d7cbaf123a276",
       "version_major": 2,
       "version_minor": 0
      },
      "text/plain": [
       "  0%|          | 0/78 [00:00<?, ?it/s]"
      ]
     },
     "metadata": {},
     "output_type": "display_data"
    },
    {
     "data": {
      "application/vnd.jupyter.widget-view+json": {
       "model_id": "fae2bf3cd79946f896ef82b8c9d26e84",
       "version_major": 2,
       "version_minor": 0
      },
      "text/plain": [
       "  0%|          | 0/310 [00:00<?, ?it/s]"
      ]
     },
     "metadata": {},
     "output_type": "display_data"
    },
    {
     "data": {
      "application/vnd.jupyter.widget-view+json": {
       "model_id": "22b8d9673a9f4dd99fec8cad13f37d53",
       "version_major": 2,
       "version_minor": 0
      },
      "text/plain": [
       "  0%|          | 0/78 [00:00<?, ?it/s]"
      ]
     },
     "metadata": {},
     "output_type": "display_data"
    },
    {
     "data": {
      "application/vnd.jupyter.widget-view+json": {
       "model_id": "aa21c5af01494137bda8cee956790e69",
       "version_major": 2,
       "version_minor": 0
      },
      "text/plain": [
       "  0%|          | 0/310 [00:00<?, ?it/s]"
      ]
     },
     "metadata": {},
     "output_type": "display_data"
    },
    {
     "data": {
      "application/vnd.jupyter.widget-view+json": {
       "model_id": "a7ed760158b34f0bb1a42028e782dca4",
       "version_major": 2,
       "version_minor": 0
      },
      "text/plain": [
       "  0%|          | 0/78 [00:00<?, ?it/s]"
      ]
     },
     "metadata": {},
     "output_type": "display_data"
    },
    {
     "data": {
      "application/vnd.jupyter.widget-view+json": {
       "model_id": "b92061f83e7343f280547a69078b364f",
       "version_major": 2,
       "version_minor": 0
      },
      "text/plain": [
       "  0%|          | 0/310 [00:00<?, ?it/s]"
      ]
     },
     "metadata": {},
     "output_type": "display_data"
    },
    {
     "data": {
      "application/vnd.jupyter.widget-view+json": {
       "model_id": "076ff18a0db84d83b5871a99ddcd17cf",
       "version_major": 2,
       "version_minor": 0
      },
      "text/plain": [
       "  0%|          | 0/78 [00:00<?, ?it/s]"
      ]
     },
     "metadata": {},
     "output_type": "display_data"
    },
    {
     "data": {
      "application/vnd.jupyter.widget-view+json": {
       "model_id": "8e68b4f9e84a4ca1b1728d5253daff77",
       "version_major": 2,
       "version_minor": 0
      },
      "text/plain": [
       "  0%|          | 0/310 [00:00<?, ?it/s]"
      ]
     },
     "metadata": {},
     "output_type": "display_data"
    },
    {
     "data": {
      "application/vnd.jupyter.widget-view+json": {
       "model_id": "db88440e08f74c0d8e03bd8f0652edf0",
       "version_major": 2,
       "version_minor": 0
      },
      "text/plain": [
       "  0%|          | 0/78 [00:00<?, ?it/s]"
      ]
     },
     "metadata": {},
     "output_type": "display_data"
    },
    {
     "data": {
      "application/vnd.jupyter.widget-view+json": {
       "model_id": "61aa415950d843efb761acf8a6f90b4f",
       "version_major": 2,
       "version_minor": 0
      },
      "text/plain": [
       "  0%|          | 0/310 [00:00<?, ?it/s]"
      ]
     },
     "metadata": {},
     "output_type": "display_data"
    },
    {
     "data": {
      "application/vnd.jupyter.widget-view+json": {
       "model_id": "7e430b078c4a429799cb1250df77c0f7",
       "version_major": 2,
       "version_minor": 0
      },
      "text/plain": [
       "  0%|          | 0/78 [00:00<?, ?it/s]"
      ]
     },
     "metadata": {},
     "output_type": "display_data"
    },
    {
     "data": {
      "application/vnd.jupyter.widget-view+json": {
       "model_id": "029fc762033d4ed1ad54f83e55618f26",
       "version_major": 2,
       "version_minor": 0
      },
      "text/plain": [
       "  0%|          | 0/310 [00:00<?, ?it/s]"
      ]
     },
     "metadata": {},
     "output_type": "display_data"
    },
    {
     "data": {
      "application/vnd.jupyter.widget-view+json": {
       "model_id": "4119004a568a428088ac9576562a41f0",
       "version_major": 2,
       "version_minor": 0
      },
      "text/plain": [
       "  0%|          | 0/78 [00:00<?, ?it/s]"
      ]
     },
     "metadata": {},
     "output_type": "display_data"
    },
    {
     "data": {
      "application/vnd.jupyter.widget-view+json": {
       "model_id": "e732333c5ca9453396ed571fddb613e5",
       "version_major": 2,
       "version_minor": 0
      },
      "text/plain": [
       "  0%|          | 0/310 [00:00<?, ?it/s]"
      ]
     },
     "metadata": {},
     "output_type": "display_data"
    },
    {
     "data": {
      "application/vnd.jupyter.widget-view+json": {
       "model_id": "934fcc93ba0e49798e0b7ac69bfbfc2a",
       "version_major": 2,
       "version_minor": 0
      },
      "text/plain": [
       "  0%|          | 0/78 [00:00<?, ?it/s]"
      ]
     },
     "metadata": {},
     "output_type": "display_data"
    },
    {
     "data": {
      "application/vnd.jupyter.widget-view+json": {
       "model_id": "0483d8b923cf40a99bc356b8c2647392",
       "version_major": 2,
       "version_minor": 0
      },
      "text/plain": [
       "  0%|          | 0/310 [00:00<?, ?it/s]"
      ]
     },
     "metadata": {},
     "output_type": "display_data"
    },
    {
     "data": {
      "application/vnd.jupyter.widget-view+json": {
       "model_id": "62ef829b68d64e1c87adbc527e635d73",
       "version_major": 2,
       "version_minor": 0
      },
      "text/plain": [
       "  0%|          | 0/78 [00:00<?, ?it/s]"
      ]
     },
     "metadata": {},
     "output_type": "display_data"
    },
    {
     "data": {
      "application/vnd.jupyter.widget-view+json": {
       "model_id": "fc922bccf13a4af9aac843f99b861abe",
       "version_major": 2,
       "version_minor": 0
      },
      "text/plain": [
       "  0%|          | 0/310 [00:00<?, ?it/s]"
      ]
     },
     "metadata": {},
     "output_type": "display_data"
    },
    {
     "data": {
      "application/vnd.jupyter.widget-view+json": {
       "model_id": "7341044263f9492a92dfa665ebdd9ad1",
       "version_major": 2,
       "version_minor": 0
      },
      "text/plain": [
       "  0%|          | 0/78 [00:00<?, ?it/s]"
      ]
     },
     "metadata": {},
     "output_type": "display_data"
    },
    {
     "data": {
      "application/vnd.jupyter.widget-view+json": {
       "model_id": "9d2c1cbd4b604e7ab70d4e81b52845a3",
       "version_major": 2,
       "version_minor": 0
      },
      "text/plain": [
       "  0%|          | 0/310 [00:00<?, ?it/s]"
      ]
     },
     "metadata": {},
     "output_type": "display_data"
    },
    {
     "data": {
      "application/vnd.jupyter.widget-view+json": {
       "model_id": "a983218f014f48c2881a9e4687792162",
       "version_major": 2,
       "version_minor": 0
      },
      "text/plain": [
       "  0%|          | 0/78 [00:00<?, ?it/s]"
      ]
     },
     "metadata": {},
     "output_type": "display_data"
    },
    {
     "data": {
      "application/vnd.jupyter.widget-view+json": {
       "model_id": "5bb30b74a7a4472b847f1add1bec9dd4",
       "version_major": 2,
       "version_minor": 0
      },
      "text/plain": [
       "  0%|          | 0/310 [00:00<?, ?it/s]"
      ]
     },
     "metadata": {},
     "output_type": "display_data"
    },
    {
     "data": {
      "application/vnd.jupyter.widget-view+json": {
       "model_id": "623b426d23c94182a5f9a76fdb09938f",
       "version_major": 2,
       "version_minor": 0
      },
      "text/plain": [
       "  0%|          | 0/78 [00:00<?, ?it/s]"
      ]
     },
     "metadata": {},
     "output_type": "display_data"
    },
    {
     "data": {
      "application/vnd.jupyter.widget-view+json": {
       "model_id": "3049a3a143204d03bfc7f9cf4f5797df",
       "version_major": 2,
       "version_minor": 0
      },
      "text/plain": [
       "  0%|          | 0/310 [00:00<?, ?it/s]"
      ]
     },
     "metadata": {},
     "output_type": "display_data"
    },
    {
     "data": {
      "application/vnd.jupyter.widget-view+json": {
       "model_id": "a2452175f54b4de8bd41b06d856f7e14",
       "version_major": 2,
       "version_minor": 0
      },
      "text/plain": [
       "  0%|          | 0/78 [00:00<?, ?it/s]"
      ]
     },
     "metadata": {},
     "output_type": "display_data"
    },
    {
     "data": {
      "application/vnd.jupyter.widget-view+json": {
       "model_id": "d0e0567357934b14b420309e91b29413",
       "version_major": 2,
       "version_minor": 0
      },
      "text/plain": [
       "  0%|          | 0/310 [00:00<?, ?it/s]"
      ]
     },
     "metadata": {},
     "output_type": "display_data"
    },
    {
     "data": {
      "application/vnd.jupyter.widget-view+json": {
       "model_id": "47bf60da9cb24ef8b12e4f4cf96eab19",
       "version_major": 2,
       "version_minor": 0
      },
      "text/plain": [
       "  0%|          | 0/78 [00:00<?, ?it/s]"
      ]
     },
     "metadata": {},
     "output_type": "display_data"
    },
    {
     "data": {
      "application/vnd.jupyter.widget-view+json": {
       "model_id": "16d189b25a3d4e63bda42ab501a042b8",
       "version_major": 2,
       "version_minor": 0
      },
      "text/plain": [
       "  0%|          | 0/310 [00:00<?, ?it/s]"
      ]
     },
     "metadata": {},
     "output_type": "display_data"
    },
    {
     "data": {
      "application/vnd.jupyter.widget-view+json": {
       "model_id": "2b394da03ba347d7a0380223232b4ecd",
       "version_major": 2,
       "version_minor": 0
      },
      "text/plain": [
       "  0%|          | 0/78 [00:00<?, ?it/s]"
      ]
     },
     "metadata": {},
     "output_type": "display_data"
    },
    {
     "data": {
      "application/vnd.jupyter.widget-view+json": {
       "model_id": "1cd3d28755f243d2b37d9dbfee71899c",
       "version_major": 2,
       "version_minor": 0
      },
      "text/plain": [
       "  0%|          | 0/310 [00:00<?, ?it/s]"
      ]
     },
     "metadata": {},
     "output_type": "display_data"
    },
    {
     "data": {
      "application/vnd.jupyter.widget-view+json": {
       "model_id": "cf0d7716e7f94ac1a8a045f48c08a1ce",
       "version_major": 2,
       "version_minor": 0
      },
      "text/plain": [
       "  0%|          | 0/78 [00:00<?, ?it/s]"
      ]
     },
     "metadata": {},
     "output_type": "display_data"
    },
    {
     "data": {
      "application/vnd.jupyter.widget-view+json": {
       "model_id": "800c3a4bd6fa4789a14156831b8082d6",
       "version_major": 2,
       "version_minor": 0
      },
      "text/plain": [
       "  0%|          | 0/310 [00:00<?, ?it/s]"
      ]
     },
     "metadata": {},
     "output_type": "display_data"
    },
    {
     "data": {
      "application/vnd.jupyter.widget-view+json": {
       "model_id": "d4bc2ef4e9dd4baa8e18301aad66b165",
       "version_major": 2,
       "version_minor": 0
      },
      "text/plain": [
       "  0%|          | 0/78 [00:00<?, ?it/s]"
      ]
     },
     "metadata": {},
     "output_type": "display_data"
    },
    {
     "data": {
      "application/vnd.jupyter.widget-view+json": {
       "model_id": "48a52814be9a42db9f9eb71157829052",
       "version_major": 2,
       "version_minor": 0
      },
      "text/plain": [
       "  0%|          | 0/310 [00:00<?, ?it/s]"
      ]
     },
     "metadata": {},
     "output_type": "display_data"
    },
    {
     "data": {
      "application/vnd.jupyter.widget-view+json": {
       "model_id": "54be60fa772e4d448caef95f29bb95b0",
       "version_major": 2,
       "version_minor": 0
      },
      "text/plain": [
       "  0%|          | 0/78 [00:00<?, ?it/s]"
      ]
     },
     "metadata": {},
     "output_type": "display_data"
    },
    {
     "data": {
      "application/vnd.jupyter.widget-view+json": {
       "model_id": "0642c3e42b1c43c58af309de0009c5e3",
       "version_major": 2,
       "version_minor": 0
      },
      "text/plain": [
       "  0%|          | 0/310 [00:00<?, ?it/s]"
      ]
     },
     "metadata": {},
     "output_type": "display_data"
    },
    {
     "data": {
      "application/vnd.jupyter.widget-view+json": {
       "model_id": "06718202068f4df8bca97cdeedc97b0a",
       "version_major": 2,
       "version_minor": 0
      },
      "text/plain": [
       "  0%|          | 0/78 [00:00<?, ?it/s]"
      ]
     },
     "metadata": {},
     "output_type": "display_data"
    },
    {
     "data": {
      "application/vnd.jupyter.widget-view+json": {
       "model_id": "8b83baca7fd04d798edaa11c58ba74e7",
       "version_major": 2,
       "version_minor": 0
      },
      "text/plain": [
       "  0%|          | 0/310 [00:00<?, ?it/s]"
      ]
     },
     "metadata": {},
     "output_type": "display_data"
    },
    {
     "data": {
      "application/vnd.jupyter.widget-view+json": {
       "model_id": "445f626928224d4391393535a51ad769",
       "version_major": 2,
       "version_minor": 0
      },
      "text/plain": [
       "  0%|          | 0/78 [00:00<?, ?it/s]"
      ]
     },
     "metadata": {},
     "output_type": "display_data"
    },
    {
     "data": {
      "application/vnd.jupyter.widget-view+json": {
       "model_id": "6d87929cbb104669b84dcc5fe62f0445",
       "version_major": 2,
       "version_minor": 0
      },
      "text/plain": [
       "  0%|          | 0/310 [00:00<?, ?it/s]"
      ]
     },
     "metadata": {},
     "output_type": "display_data"
    },
    {
     "data": {
      "application/vnd.jupyter.widget-view+json": {
       "model_id": "0157da1b50f44a2a999de5eecefb90fd",
       "version_major": 2,
       "version_minor": 0
      },
      "text/plain": [
       "  0%|          | 0/78 [00:00<?, ?it/s]"
      ]
     },
     "metadata": {},
     "output_type": "display_data"
    },
    {
     "data": {
      "application/vnd.jupyter.widget-view+json": {
       "model_id": "d200d344489d4795bc2470ffaa180ea7",
       "version_major": 2,
       "version_minor": 0
      },
      "text/plain": [
       "  0%|          | 0/310 [00:00<?, ?it/s]"
      ]
     },
     "metadata": {},
     "output_type": "display_data"
    },
    {
     "data": {
      "application/vnd.jupyter.widget-view+json": {
       "model_id": "69fddc04eee74bd299acb71e3d07f935",
       "version_major": 2,
       "version_minor": 0
      },
      "text/plain": [
       "  0%|          | 0/78 [00:00<?, ?it/s]"
      ]
     },
     "metadata": {},
     "output_type": "display_data"
    },
    {
     "data": {
      "application/vnd.jupyter.widget-view+json": {
       "model_id": "06828d1d4eee4b8a83e6286087f2c6cb",
       "version_major": 2,
       "version_minor": 0
      },
      "text/plain": [
       "  0%|          | 0/310 [00:00<?, ?it/s]"
      ]
     },
     "metadata": {},
     "output_type": "display_data"
    },
    {
     "data": {
      "application/vnd.jupyter.widget-view+json": {
       "model_id": "39519129598743508ec2a8fb0c216d87",
       "version_major": 2,
       "version_minor": 0
      },
      "text/plain": [
       "  0%|          | 0/78 [00:00<?, ?it/s]"
      ]
     },
     "metadata": {},
     "output_type": "display_data"
    },
    {
     "data": {
      "application/vnd.jupyter.widget-view+json": {
       "model_id": "1e5f5948c806487cacf363c111873f12",
       "version_major": 2,
       "version_minor": 0
      },
      "text/plain": [
       "  0%|          | 0/310 [00:00<?, ?it/s]"
      ]
     },
     "metadata": {},
     "output_type": "display_data"
    },
    {
     "data": {
      "application/vnd.jupyter.widget-view+json": {
       "model_id": "57277ffafb9540e481ad6c02116e2ccd",
       "version_major": 2,
       "version_minor": 0
      },
      "text/plain": [
       "  0%|          | 0/78 [00:00<?, ?it/s]"
      ]
     },
     "metadata": {},
     "output_type": "display_data"
    },
    {
     "data": {
      "application/vnd.jupyter.widget-view+json": {
       "model_id": "5eb1d8ded2e541d89d1699f962382294",
       "version_major": 2,
       "version_minor": 0
      },
      "text/plain": [
       "  0%|          | 0/310 [00:00<?, ?it/s]"
      ]
     },
     "metadata": {},
     "output_type": "display_data"
    },
    {
     "data": {
      "application/vnd.jupyter.widget-view+json": {
       "model_id": "9f071a51ee354f7da10f98b5d87bf51b",
       "version_major": 2,
       "version_minor": 0
      },
      "text/plain": [
       "  0%|          | 0/78 [00:00<?, ?it/s]"
      ]
     },
     "metadata": {},
     "output_type": "display_data"
    },
    {
     "data": {
      "application/vnd.jupyter.widget-view+json": {
       "model_id": "bf1d4378d0fe413dba8eb122f56c3aba",
       "version_major": 2,
       "version_minor": 0
      },
      "text/plain": [
       "  0%|          | 0/310 [00:00<?, ?it/s]"
      ]
     },
     "metadata": {},
     "output_type": "display_data"
    },
    {
     "data": {
      "application/vnd.jupyter.widget-view+json": {
       "model_id": "52c6e3b268084e299103dfccb5aa31a9",
       "version_major": 2,
       "version_minor": 0
      },
      "text/plain": [
       "  0%|          | 0/78 [00:00<?, ?it/s]"
      ]
     },
     "metadata": {},
     "output_type": "display_data"
    },
    {
     "data": {
      "application/vnd.jupyter.widget-view+json": {
       "model_id": "f2c7cb15bacd4fd3aa7aefb118f032a2",
       "version_major": 2,
       "version_minor": 0
      },
      "text/plain": [
       "  0%|          | 0/310 [00:00<?, ?it/s]"
      ]
     },
     "metadata": {},
     "output_type": "display_data"
    },
    {
     "data": {
      "application/vnd.jupyter.widget-view+json": {
       "model_id": "e6b71895ff4c4701b7d2763a5b46885f",
       "version_major": 2,
       "version_minor": 0
      },
      "text/plain": [
       "  0%|          | 0/78 [00:00<?, ?it/s]"
      ]
     },
     "metadata": {},
     "output_type": "display_data"
    },
    {
     "data": {
      "application/vnd.jupyter.widget-view+json": {
       "model_id": "835982f9033d41c496ebb22f881f6300",
       "version_major": 2,
       "version_minor": 0
      },
      "text/plain": [
       "  0%|          | 0/310 [00:00<?, ?it/s]"
      ]
     },
     "metadata": {},
     "output_type": "display_data"
    },
    {
     "data": {
      "application/vnd.jupyter.widget-view+json": {
       "model_id": "e816ad1810ce404e9f42f856aacdd6fe",
       "version_major": 2,
       "version_minor": 0
      },
      "text/plain": [
       "  0%|          | 0/78 [00:00<?, ?it/s]"
      ]
     },
     "metadata": {},
     "output_type": "display_data"
    },
    {
     "data": {
      "application/vnd.jupyter.widget-view+json": {
       "model_id": "db91f18ba2994b02976d909d19d06b85",
       "version_major": 2,
       "version_minor": 0
      },
      "text/plain": [
       "  0%|          | 0/310 [00:00<?, ?it/s]"
      ]
     },
     "metadata": {},
     "output_type": "display_data"
    },
    {
     "data": {
      "application/vnd.jupyter.widget-view+json": {
       "model_id": "53499f94566e49ab856123e686a67985",
       "version_major": 2,
       "version_minor": 0
      },
      "text/plain": [
       "  0%|          | 0/78 [00:00<?, ?it/s]"
      ]
     },
     "metadata": {},
     "output_type": "display_data"
    },
    {
     "data": {
      "application/vnd.jupyter.widget-view+json": {
       "model_id": "6ff6407519c1408cbc98b15bfa3d29f4",
       "version_major": 2,
       "version_minor": 0
      },
      "text/plain": [
       "  0%|          | 0/310 [00:00<?, ?it/s]"
      ]
     },
     "metadata": {},
     "output_type": "display_data"
    },
    {
     "data": {
      "application/vnd.jupyter.widget-view+json": {
       "model_id": "26ed8f41a0cb4845a50786169d76ce66",
       "version_major": 2,
       "version_minor": 0
      },
      "text/plain": [
       "  0%|          | 0/78 [00:00<?, ?it/s]"
      ]
     },
     "metadata": {},
     "output_type": "display_data"
    },
    {
     "data": {
      "application/vnd.jupyter.widget-view+json": {
       "model_id": "06e27d4923de4ad790a1c10d7302e3e9",
       "version_major": 2,
       "version_minor": 0
      },
      "text/plain": [
       "  0%|          | 0/310 [00:00<?, ?it/s]"
      ]
     },
     "metadata": {},
     "output_type": "display_data"
    },
    {
     "data": {
      "application/vnd.jupyter.widget-view+json": {
       "model_id": "e3b86d0ce0334302946623135dbb8055",
       "version_major": 2,
       "version_minor": 0
      },
      "text/plain": [
       "  0%|          | 0/78 [00:00<?, ?it/s]"
      ]
     },
     "metadata": {},
     "output_type": "display_data"
    },
    {
     "data": {
      "application/vnd.jupyter.widget-view+json": {
       "model_id": "5b16b56645c148a7b5f8795642139829",
       "version_major": 2,
       "version_minor": 0
      },
      "text/plain": [
       "  0%|          | 0/310 [00:00<?, ?it/s]"
      ]
     },
     "metadata": {},
     "output_type": "display_data"
    },
    {
     "data": {
      "application/vnd.jupyter.widget-view+json": {
       "model_id": "e797d5787b384711bd5811d580c180d2",
       "version_major": 2,
       "version_minor": 0
      },
      "text/plain": [
       "  0%|          | 0/78 [00:00<?, ?it/s]"
      ]
     },
     "metadata": {},
     "output_type": "display_data"
    },
    {
     "data": {
      "application/vnd.jupyter.widget-view+json": {
       "model_id": "1de7103a422f4edeb6ccce642b799384",
       "version_major": 2,
       "version_minor": 0
      },
      "text/plain": [
       "  0%|          | 0/310 [00:00<?, ?it/s]"
      ]
     },
     "metadata": {},
     "output_type": "display_data"
    },
    {
     "data": {
      "application/vnd.jupyter.widget-view+json": {
       "model_id": "aa813bb9114344ef83658b8271014209",
       "version_major": 2,
       "version_minor": 0
      },
      "text/plain": [
       "  0%|          | 0/78 [00:00<?, ?it/s]"
      ]
     },
     "metadata": {},
     "output_type": "display_data"
    },
    {
     "data": {
      "application/vnd.jupyter.widget-view+json": {
       "model_id": "035eaeb58a2540b788b5009d2cfa008a",
       "version_major": 2,
       "version_minor": 0
      },
      "text/plain": [
       "  0%|          | 0/310 [00:00<?, ?it/s]"
      ]
     },
     "metadata": {},
     "output_type": "display_data"
    },
    {
     "data": {
      "application/vnd.jupyter.widget-view+json": {
       "model_id": "4af1024a9cb54d10b0ae3acc85fc3cb1",
       "version_major": 2,
       "version_minor": 0
      },
      "text/plain": [
       "  0%|          | 0/78 [00:00<?, ?it/s]"
      ]
     },
     "metadata": {},
     "output_type": "display_data"
    },
    {
     "data": {
      "application/vnd.jupyter.widget-view+json": {
       "model_id": "92f5de9190df485a98b2f004879619a2",
       "version_major": 2,
       "version_minor": 0
      },
      "text/plain": [
       "  0%|          | 0/310 [00:00<?, ?it/s]"
      ]
     },
     "metadata": {},
     "output_type": "display_data"
    },
    {
     "data": {
      "application/vnd.jupyter.widget-view+json": {
       "model_id": "abffd6bc7f134a62af7fd91acddcfbed",
       "version_major": 2,
       "version_minor": 0
      },
      "text/plain": [
       "  0%|          | 0/78 [00:00<?, ?it/s]"
      ]
     },
     "metadata": {},
     "output_type": "display_data"
    },
    {
     "data": {
      "application/vnd.jupyter.widget-view+json": {
       "model_id": "92a52170837e45a4823596cb5bc652d3",
       "version_major": 2,
       "version_minor": 0
      },
      "text/plain": [
       "  0%|          | 0/310 [00:00<?, ?it/s]"
      ]
     },
     "metadata": {},
     "output_type": "display_data"
    },
    {
     "data": {
      "application/vnd.jupyter.widget-view+json": {
       "model_id": "414dc5e57a774c80ac6ecc3183fd9189",
       "version_major": 2,
       "version_minor": 0
      },
      "text/plain": [
       "  0%|          | 0/78 [00:00<?, ?it/s]"
      ]
     },
     "metadata": {},
     "output_type": "display_data"
    },
    {
     "data": {
      "application/vnd.jupyter.widget-view+json": {
       "model_id": "dbac5aa86d6846e6bd1f3bbc6767dfbf",
       "version_major": 2,
       "version_minor": 0
      },
      "text/plain": [
       "  0%|          | 0/310 [00:00<?, ?it/s]"
      ]
     },
     "metadata": {},
     "output_type": "display_data"
    },
    {
     "data": {
      "application/vnd.jupyter.widget-view+json": {
       "model_id": "309b6da428864459b716287001ea015d",
       "version_major": 2,
       "version_minor": 0
      },
      "text/plain": [
       "  0%|          | 0/78 [00:00<?, ?it/s]"
      ]
     },
     "metadata": {},
     "output_type": "display_data"
    },
    {
     "data": {
      "application/vnd.jupyter.widget-view+json": {
       "model_id": "8ac2f942a2554c54960f7d3ecc2fe3a4",
       "version_major": 2,
       "version_minor": 0
      },
      "text/plain": [
       "  0%|          | 0/310 [00:00<?, ?it/s]"
      ]
     },
     "metadata": {},
     "output_type": "display_data"
    },
    {
     "data": {
      "application/vnd.jupyter.widget-view+json": {
       "model_id": "2627415680df4f97baaf38ff64086659",
       "version_major": 2,
       "version_minor": 0
      },
      "text/plain": [
       "  0%|          | 0/78 [00:00<?, ?it/s]"
      ]
     },
     "metadata": {},
     "output_type": "display_data"
    },
    {
     "data": {
      "application/vnd.jupyter.widget-view+json": {
       "model_id": "2c9e6bac69cb4d989d1d1de29aa22ed0",
       "version_major": 2,
       "version_minor": 0
      },
      "text/plain": [
       "  0%|          | 0/310 [00:00<?, ?it/s]"
      ]
     },
     "metadata": {},
     "output_type": "display_data"
    },
    {
     "data": {
      "application/vnd.jupyter.widget-view+json": {
       "model_id": "efb0057c31cb4e2497e4e4030c3ed850",
       "version_major": 2,
       "version_minor": 0
      },
      "text/plain": [
       "  0%|          | 0/78 [00:00<?, ?it/s]"
      ]
     },
     "metadata": {},
     "output_type": "display_data"
    },
    {
     "data": {
      "application/vnd.jupyter.widget-view+json": {
       "model_id": "6bc233944b1e45539fa089fc0385e19a",
       "version_major": 2,
       "version_minor": 0
      },
      "text/plain": [
       "  0%|          | 0/310 [00:00<?, ?it/s]"
      ]
     },
     "metadata": {},
     "output_type": "display_data"
    },
    {
     "data": {
      "application/vnd.jupyter.widget-view+json": {
       "model_id": "f277606e6792421b9c91618f8b08a1df",
       "version_major": 2,
       "version_minor": 0
      },
      "text/plain": [
       "  0%|          | 0/78 [00:00<?, ?it/s]"
      ]
     },
     "metadata": {},
     "output_type": "display_data"
    },
    {
     "data": {
      "application/vnd.jupyter.widget-view+json": {
       "model_id": "5f12fc1476ac445384812057e8f9bdb8",
       "version_major": 2,
       "version_minor": 0
      },
      "text/plain": [
       "  0%|          | 0/310 [00:00<?, ?it/s]"
      ]
     },
     "metadata": {},
     "output_type": "display_data"
    },
    {
     "data": {
      "application/vnd.jupyter.widget-view+json": {
       "model_id": "005c28efcb4b40a48fd5cabad7552d3d",
       "version_major": 2,
       "version_minor": 0
      },
      "text/plain": [
       "  0%|          | 0/78 [00:00<?, ?it/s]"
      ]
     },
     "metadata": {},
     "output_type": "display_data"
    }
   ],
   "source": [
    "loss_plot, val_loss_plot = [], []\n",
    "\n",
    "best_val_loss = 9999999999\n",
    "\n",
    "for epoch in tqdm(range(epochs), position=0, leave=True, desc=\"Epochs\"):    \n",
    "    total_loss, total_val_loss = 0, 0\n",
    "    total_score, total_val_score = 0, 0\n",
    "    \n",
    "    tqdm_dataset = tqdm(enumerate(train_dataloader), total=len(train_dataloader))\n",
    "    training = True\n",
    "    for batch, batch_item in tqdm_dataset:\n",
    "        batch_loss = train_step(batch_item, epoch, batch, training, teacher_forcing)\n",
    "        total_loss += batch_loss.item() \n",
    "        \n",
    "        tqdm_dataset.set_postfix({\n",
    "            'Epoch': epoch + 1,\n",
    "            'Loss': '{:06f}'.format(batch_loss.item()),\n",
    "            'Total Loss' : '{:06f}'.format(total_loss/(batch+1)),\n",
    "        })\n",
    "    loss_plot.append(total_loss/(batch+1))\n",
    "    \n",
    "    tqdm_dataset = tqdm(enumerate(val_dataloader), total=len(val_dataloader))\n",
    "    training = False\n",
    "    for batch, batch_item in tqdm_dataset:\n",
    "        batch_loss = train_step(batch_item, epoch, batch, training, teacher_forcing)\n",
    "        total_val_loss += batch_loss.item() \n",
    "        \n",
    "        tqdm_dataset.set_postfix({\n",
    "            'Epoch': epoch + 1,\n",
    "            'Val Loss': '{:06f}'.format(batch_loss.item()),\n",
    "            'Total Val Loss' : '{:06f}'.format(total_val_loss/(batch+1)),\n",
    "        })\n",
    "    val_loss_plot.append(total_val_loss/(batch+1))\n",
    "    \n",
    "    if np.min(val_loss_plot) == val_loss_plot[-1]:\n",
    "        torch.save(model, save_path)"
   ]
  },
  {
   "cell_type": "code",
   "execution_count": 207,
   "id": "9c228d8b-3030-49eb-b626-42e2d37bdcd6",
   "metadata": {},
   "outputs": [
    {
     "data": {
      "image/png": "[encoded data removed]",
      "text/plain": [
       "<Figure size 432x288 with 1 Axes>"
      ]
     },
     "metadata": {
      "needs_background": "light"
     },
     "output_type": "display_data"
    }
   ],
   "source": [
    "plt.plot(loss_plot, label='train_loss')\n",
    "plt.plot(val_loss_plot, label='val_loss')\n",
    "plt.xlabel('epoch')\n",
    "plt.ylabel('loss(mae)')\n",
    "plt.title('loss_plot')\n",
    "plt.legend()\n",
    "plt.show()"
   ]
  },
  {
   "cell_type": "code",
   "execution_count": 208,
   "id": "bb51d560-fe31-4960-b210-b5819f2b54b5",
   "metadata": {},
   "outputs": [
    {
     "data": {
      "text/plain": [
       "Seq2Seq(\n",
       "  (encoder): Encoder(\n",
       "    (rnn): GRU(1, 128, num_layers=3, dropout=0.2)\n",
       "    (dropout): Dropout(p=0.2, inplace=False)\n",
       "  )\n",
       "  (decoder): Decoder(\n",
       "    (attention): BahdanauAttention(\n",
       "      (W1): Linear(in_features=128, out_features=128, bias=True)\n",
       "      (W2): Linear(in_features=128, out_features=128, bias=True)\n",
       "      (V): Linear(in_features=128, out_features=1, bias=True)\n",
       "    )\n",
       "    (layer): Linear(in_features=1, out_features=128, bias=True)\n",
       "    (rnn): GRU(256, 128, num_layers=3, dropout=0.2)\n",
       "    (fc_out): Linear(in_features=128, out_features=1, bias=True)\n",
       "    (dropout): Dropout(p=0.2, inplace=False)\n",
       "  )\n",
       ")"
      ]
     },
     "execution_count": 208,
     "metadata": {},
     "output_type": "execute_result"
    }
   ],
   "source": [
    "test_model = torch.load(\"best_gru.pt\")\n",
    "test_model.to(device) "
   ]
  },
  {
   "cell_type": "code",
   "execution_count": 209,
   "id": "e3924697-9fef-40f3-8283-68106e4f19db",
   "metadata": {},
   "outputs": [],
   "source": [
    "def predict(encoder_input):\n",
    "    test_model.eval()\n",
    "    encoder_input = encoder_input.to(device)\n",
    "    decoder_input = torch.zeros([1, future_size+1, target_n], dtype=torch.float32).to(device)\n",
    "    with torch.no_grad():\n",
    "        output = test_model(encoder_input, decoder_input, False)\n",
    "    return output.cpu()"
   ]
  },
  {
   "cell_type": "code",
   "execution_count": 217,
   "id": "18151ba3-a237-4139-b71e-2673fc86fbb4",
   "metadata": {},
   "outputs": [],
   "source": [
    "X_test = test_set[\"close\"].iloc[:-target_len] \n",
    "Y_test = test_set[\"close\"].iloc[-target_len:] "
   ]
  },
  {
   "cell_type": "code",
   "execution_count": 218,
   "id": "e118f521-e8fc-455e-8c64-2cb4359f1028",
   "metadata": {},
   "outputs": [
    {
     "data": {
      "text/plain": [
       "((48,), (10,))"
      ]
     },
     "execution_count": 218,
     "metadata": {},
     "output_type": "execute_result"
    }
   ],
   "source": [
    "X_test.shape, Y_test.shape"
   ]
  },
  {
   "cell_type": "code",
   "execution_count": 219,
   "id": "96191921-e760-498c-8cb8-61d24a58a830",
   "metadata": {},
   "outputs": [],
   "source": [
    "X_test.drop(columns={\"datetime\"}, inplace=True) "
   ]
  },
  {
   "cell_type": "code",
   "execution_count": 220,
   "id": "968a62a0-ebc3-4436-8e13-a98d4ffe2d16",
   "metadata": {},
   "outputs": [
    {
     "data": {
      "text/plain": [
       "(48, 1)"
      ]
     },
     "execution_count": 220,
     "metadata": {},
     "output_type": "execute_result"
    }
   ],
   "source": [
    "X_test = scaler.transform(X_test.values.reshape((seq_len,1))) \n",
    "\n",
    "X_test.shape"
   ]
  },
  {
   "cell_type": "code",
   "execution_count": 221,
   "id": "f1705666-b003-425d-a50e-7359e6fe3225",
   "metadata": {},
   "outputs": [
    {
     "data": {
      "text/plain": [
       "torch.Size([1, 48, 1])"
      ]
     },
     "execution_count": 221,
     "metadata": {},
     "output_type": "execute_result"
    }
   ],
   "source": [
    "X_test = torch.tensor(X_test).float() \n",
    "X_test = torch.reshape(X_test, (-1, seq_len, 1)) \n",
    "\n",
    "X_test.shape"
   ]
  },
  {
   "cell_type": "code",
   "execution_count": 222,
   "id": "2c5d662a-83b5-412e-917c-b20d6389dfd8",
   "metadata": {},
   "outputs": [],
   "source": [
    "gru_prediction = predict(X_test) \n"
   ]
  },
  {
   "cell_type": "code",
   "execution_count": 223,
   "id": "6112df52-9876-4576-a1a7-892e71265579",
   "metadata": {},
   "outputs": [
    {
     "data": {
      "text/plain": [
       "torch.Size([10, 1])"
      ]
     },
     "execution_count": 223,
     "metadata": {},
     "output_type": "execute_result"
    }
   ],
   "source": [
    "gru_prediction = torch.reshape(gru_prediction, (10,1)) \n",
    "\n",
    "gru_prediction.shape"
   ]
  },
  {
   "cell_type": "code",
   "execution_count": 224,
   "id": "f2b2f965-d3f2-48eb-9d87-ef4b73c9a3c5",
   "metadata": {},
   "outputs": [],
   "source": [
    "gru_prediction = scaler.inverse_transform(gru_prediction) "
   ]
  },
  {
   "cell_type": "code",
   "execution_count": 228,
   "id": "58ffe2f1-e4cf-49ca-87ec-02d66ab80bd0",
   "metadata": {},
   "outputs": [
    {
     "data": {
      "image/png": "[encoded data removed]",
      "text/plain": [
       "<Figure size 864x432 with 1 Axes>"
      ]
     },
     "metadata": {
      "needs_background": "light"
     },
     "output_type": "display_data"
    }
   ],
   "source": [
    "training = train_df30m[\"close\"].values[-20:] \n",
    "train_time = train_df30m[\"datetime\"].values[-20:]  \n",
    "\n",
    "actual = test_df30m[\"close\"].values \n",
    "actual_time = test_df30m[\"datetime\"].values \n",
    "\n",
    "forecast_df[\"datetime\"] = forecast_df.index \n",
    "arima = forecast_df[\"Prediction\"].values \n",
    "arima_time = forecast_df[\"datetime\"].values \n",
    "arima_time_dt = [] \n",
    "for i in range(len(arima_time)): \n",
    "    cur_dt = pd.to_datetime(arima_time[i]).strftime(\"%Y-%m-%d %H:%M:%S\") \n",
    "    arima_time_dt.append(cur_dt) \n",
    "\n",
    "prophet = fb_prophet_df[\"yhat\"].values \n",
    "prophet_time = fb_prophet_df[\"ds\"].values \n",
    "prophet_time_dt = [] \n",
    "for i in range(len(arima_time)): \n",
    "    cur_dt = pd.to_datetime(prophet_time[i]).strftime(\"%Y-%m-%d %H:%M:%S\") \n",
    "    prophet_time_dt.append(cur_dt) \n",
    "\n",
    "\n",
    "plt.figure(figsize=(12, 6)) \n",
    "plt.plot(train_time, training, label=\"Training\") \n",
    "plt.plot(np.concatenate([train_time[-1:], actual_time]), np.concatenate([training[-1:], actual]), label=\"Actual\") \n",
    "plt.plot(np.concatenate([train_time[-1:], arima_time_dt]), np.concatenate([training[-1:], arima]), label=\"ARIMA\") \n",
    "plt.plot(np.concatenate([train_time[-1:], prophet_time_dt]), np.concatenate([training[-1:], prophet]), label=\"FB Prophet\") \n",
    "plt.plot(np.concatenate([train_time[-1:], prophet_time_dt]), np.concatenate([training[-1:], gru_prediction.reshape((10))]), label=\"GRU seq2seq\") \n",
    "plt.title(\"BTC Close Price Predictions\") \n",
    "plt.xlabel(\"Date\") \n",
    "plt.xticks(rotation=45)\n",
    "plt.ylabel(\"Close Price\") \n",
    "plt.legend()\n",
    "plt.show()  "
   ]
  },
  {
   "cell_type": "markdown",
   "id": "20f4c23e-faed-40b3-81d8-208dea279c11",
   "metadata": {},
   "source": [
    "# Analysis\n",
    "\n",
    "작동 방식은 현 시점이 2023-04-21 01:00:00 이라면, 모델들에서 나온 예측값들이 비트코인의 가격 움직임을 예측해서 보여줍니다 (초록, 빨강, 보라색 선들). 그리고 최종 예측 시점인 2023-04-21 06:00:00을 따라잡게 된다면, 실제 가격 움직임 (주황색)을 고려해서 예측값들이 업데이트 됩니다 (즉, 2023-04-21 06:00:00 부터 2023-04-21 11:00:00 까지 새로운 예측 값들이 생성됩니다). \n",
    "\n",
    "결과를 보면 선형 모델들이 인공신경망 모델보다 전반적인 추세는 더 잘 잡아내는것으로 보입니다. 하지만 이건 종가 데이터만 고려해서 그렇고, 하이퍼파라미터 튜닝도 수행하지는 않은 POC를 위해 제작한 간단한 인공신경망 모델이라서 그렇습니다. 딥러닝 시계열 분석쪽으로 나온 재밌는 모델들이 많아서 (e.g. ES-RNN, DA-RNN, temporal fusion transformer, informer, etsformer등등), 이러한 모델들을 사용하고 입력 피처들도 multimodal하게 가져가서 예측 성능을 향상시키는 방향으로 저희는 연구를 수행하고 있습니다. "
   ]
  },
  {
   "cell_type": "code",
   "execution_count": null,
   "id": "5dc6c8bb-3311-423e-952f-c7729c6c960a",
   "metadata": {},
   "outputs": [],
   "source": []
  },
  {
   "cell_type": "code",
   "execution_count": null,
   "id": "7f12960e-5b65-4ad6-8b5d-81c3e06182ab",
   "metadata": {},
   "outputs": [],
   "source": []
  }
 ],
 "metadata": {
  "kernelspec": {
   "display_name": "Python 3 (ipykernel)",
   "language": "python",
   "name": "python3"
  },
  "language_info": {
   "codemirror_mode": {
    "name": "ipython",
    "version": 3
   },
   "file_extension": ".py",
   "mimetype": "text/x-python",
   "name": "python",
   "nbconvert_exporter": "python",
   "pygments_lexer": "ipython3",
   "version": "3.8.12"
  }
 },
 "nbformat": 4,
 "nbformat_minor": 5
}
